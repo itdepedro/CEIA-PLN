{
  "cells": [
    {
      "cell_type": "markdown",
      "metadata": {
        "id": "g3yeJGnCYxuF"
      },
      "source": [
        "<img src=\"https://github.com/hernancontigiani/ceia_memorias_especializacion/raw/master/Figures/logoFIUBA.jpg\" width=\"500\" align=\"center\">\n",
        "\n",
        "\n",
        "# Procesamiento de lenguaje natural\n",
        "## Modelo de lenguaje con tokenización por caracteres"
      ]
    },
    {
      "cell_type": "markdown",
      "metadata": {
        "id": "Iv5PEwGzZA9-"
      },
      "source": [
        "### Consigna\n",
        "- Seleccionar un corpus de texto sobre el cual entrenar el modelo de lenguaje.\n",
        "- Realizar el pre-procesamiento adecuado para tokenizar el corpus, estructurar el dataset y separar entre datos de entrenamiento y validación.\n",
        "- Proponer arquitecturas de redes neuronales basadas en unidades recurrentes para implementar un modelo de lenguaje.\n",
        "- Con el o los modelos que consideren adecuados, generar nuevas secuencias a partir de secuencias de contexto con las estrategias de greedy search y beam search determístico y estocástico. En este último caso observar el efecto de la temperatura en la generación de secuencias.\n",
        "\n",
        "\n",
        "### Sugerencias\n",
        "- Durante el entrenamiento, guiarse por el descenso de la perplejidad en los datos de validación para finalizar el entrenamiento. Para ello se provee un callback.\n",
        "- Explorar utilizar SimpleRNN (celda de Elman), LSTM y GRU.\n",
        "- rmsprop es el optimizador recomendado para la buena convergencia. No obstante se pueden explorar otros.\n"
      ]
    },
    {
      "cell_type": "markdown",
      "metadata": {},
      "source": [
        "# Dataset\n",
        "\n",
        "Utilizaremos un corpues compuesto por obras de Jorge Luis Borges"
      ]
    },
    {
      "cell_type": "code",
      "execution_count": 2,
      "metadata": {},
      "outputs": [
        {
          "name": "stderr",
          "output_type": "stream",
          "text": [
            "2025-04-19 13:22:10.679170: E external/local_xla/xla/stream_executor/cuda/cuda_fft.cc:467] Unable to register cuFFT factory: Attempting to register factory for plugin cuFFT when one has already been registered\n",
            "WARNING: All log messages before absl::InitializeLog() is called are written to STDERR\n",
            "E0000 00:00:1745079730.701679    5789 cuda_dnn.cc:8579] Unable to register cuDNN factory: Attempting to register factory for plugin cuDNN when one has already been registered\n",
            "E0000 00:00:1745079730.708799    5789 cuda_blas.cc:1407] Unable to register cuBLAS factory: Attempting to register factory for plugin cuBLAS when one has already been registered\n",
            "W0000 00:00:1745079730.726253    5789 computation_placer.cc:177] computation placer already registered. Please check linkage and avoid linking the same target more than once.\n",
            "W0000 00:00:1745079730.726279    5789 computation_placer.cc:177] computation placer already registered. Please check linkage and avoid linking the same target more than once.\n",
            "W0000 00:00:1745079730.726281    5789 computation_placer.cc:177] computation placer already registered. Please check linkage and avoid linking the same target more than once.\n",
            "W0000 00:00:1745079730.726284    5789 computation_placer.cc:177] computation placer already registered. Please check linkage and avoid linking the same target more than once.\n"
          ]
        },
        {
          "name": "stdout",
          "output_type": "stream",
          "text": [
            "[]\n"
          ]
        },
        {
          "name": "stderr",
          "output_type": "stream",
          "text": [
            "W0000 00:00:1745079736.165523    5789 gpu_device.cc:2341] Cannot dlopen some GPU libraries. Please make sure the missing libraries mentioned above are installed properly if you would like to use GPU. Follow the guide at https://www.tensorflow.org/install/gpu for how to download and setup the required libraries for your platform.\n",
            "Skipping registering GPU devices...\n"
          ]
        }
      ],
      "source": [
        "# Para TensorFlow\n",
        "import tensorflow as tf\n",
        "print(tf.config.list_physical_devices('GPU'))"
      ]
    },
    {
      "cell_type": "code",
      "execution_count": 3,
      "metadata": {
        "id": "Y-QdFbHZYj7C"
      },
      "outputs": [],
      "source": [
        "import random\n",
        "import io\n",
        "import pickle\n",
        "import lxml\n",
        "\n",
        "import numpy as np\n",
        "import pandas as pd\n",
        "import matplotlib.pyplot as plt\n",
        "from sklearn.model_selection import train_test_split\n",
        "\n",
        "from tensorflow import keras\n",
        "from tensorflow.keras import layers\n",
        "from keras.utils import to_categorical\n",
        "from keras.models import Sequential\n",
        "from keras.layers import Dense, LSTM, Embedding, Dropout\n",
        "from tensorflow.keras.losses import SparseCategoricalCrossentropy\n",
        "\n",
        "# descargar de textos.info\n",
        "import urllib.request\n",
        "\n",
        "# Para leer y parsear el texto en HTML de wikipedia\n",
        "import bs4 as bs"
      ]
    },
    {
      "cell_type": "code",
      "execution_count": 4,
      "metadata": {
        "colab": {
          "base_uri": "https://localhost:8080/"
        },
        "id": "IMjTSHg9-oXV",
        "outputId": "25e2091d-a62e-4ed6-a1a2-21ccb68e4356"
      },
      "outputs": [
        {
          "name": "stdout",
          "output_type": "stream",
          "text": [
            "El dataset ya se encuentra descargado\n"
          ]
        }
      ],
      "source": [
        "# Descargar la carpeta de dataset\n",
        "import os\n",
        "import platform\n",
        "if os.access('full_corpus.csv', os.F_OK) is False:\n",
        "        if platform.system() == 'Windows':\n",
        "            !curl https://raw.githubusercontent.com/karen-pal/borges/refs/heads/master/datasets/full_corpus.csv -o full_corpus.csv\n",
        "        else:\n",
        "            !wget gull_corpus.csv https://raw.githubusercontent.com/karen-pal/borges/refs/heads/master/datasets/full_corpus.csv\n",
        "\n",
        "else:\n",
        "    print(\"El dataset ya se encuentra descargado\")"
      ]
    },
    {
      "cell_type": "code",
      "execution_count": 6,
      "metadata": {
        "colab": {
          "base_uri": "https://localhost:8080/"
        },
        "id": "bUKyXuq5-tbh",
        "outputId": "b3a65a51-d340-4249-9a57-16d707fa29f3"
      },
      "outputs": [
        {
          "name": "stdout",
          "output_type": "stream",
          "text": [
            "Cantidad de documentos: 30\n"
          ]
        },
        {
          "data": {
            "text/html": [
              "<div>\n",
              "<style scoped>\n",
              "    .dataframe tbody tr th:only-of-type {\n",
              "        vertical-align: middle;\n",
              "    }\n",
              "\n",
              "    .dataframe tbody tr th {\n",
              "        vertical-align: top;\n",
              "    }\n",
              "\n",
              "    .dataframe thead th {\n",
              "        text-align: right;\n",
              "    }\n",
              "</style>\n",
              "<table border=\"1\" class=\"dataframe\">\n",
              "  <thead>\n",
              "    <tr style=\"text-align: right;\">\n",
              "      <th></th>\n",
              "      <th>link</th>\n",
              "      <th>text</th>\n",
              "      <th>title</th>\n",
              "      <th>metadata</th>\n",
              "      <th>author</th>\n",
              "    </tr>\n",
              "  </thead>\n",
              "  <tbody>\n",
              "    <tr>\n",
              "      <th>144</th>\n",
              "      <td>https://ciudadseva.com/texto/abel-y-cain-borges/</td>\n",
              "      <td>Abel y Caín se encontraron después de la muert...</td>\n",
              "      <td>Abel y Caín</td>\n",
              "      <td>[Minicuento - Texto completo.]</td>\n",
              "      <td>Jorge Luis Borges</td>\n",
              "    </tr>\n",
              "    <tr>\n",
              "      <th>145</th>\n",
              "      <td>https://ciudadseva.com/texto/adrogue/</td>\n",
              "      <td>Era muy lindo, un pueblo laberíntico. A veces,...</td>\n",
              "      <td>Adrogué</td>\n",
              "      <td>[Minicuento - Texto completo.]</td>\n",
              "      <td>Jorge Luis Borges</td>\n",
              "    </tr>\n",
              "    <tr>\n",
              "      <th>146</th>\n",
              "      <td>https://ciudadseva.com/texto/alguien-sonara/</td>\n",
              "      <td>¿Qué soñará el indescifrable futuro? Soñará qu...</td>\n",
              "      <td>Alguien soñará</td>\n",
              "      <td>[Minicuento - Texto completo.]</td>\n",
              "      <td>Jorge Luis Borges</td>\n",
              "    </tr>\n",
              "    <tr>\n",
              "      <th>147</th>\n",
              "      <td>https://ciudadseva.com/texto/andres-armoa/</td>\n",
              "      <td>Los años le han dejado unas palabras en guaran...</td>\n",
              "      <td>Andrés Armoa</td>\n",
              "      <td>[Minicuento - Texto completo.]</td>\n",
              "      <td>Jorge Luis Borges</td>\n",
              "    </tr>\n",
              "    <tr>\n",
              "      <th>148</th>\n",
              "      <td>https://ciudadseva.com/texto/argumentum-ornith...</td>\n",
              "      <td>Cierro los ojos y veo una bandada de pájaros. ...</td>\n",
              "      <td>Argumentum ornithologicum</td>\n",
              "      <td>[Minicuento - Texto completo.]</td>\n",
              "      <td>Jorge Luis Borges</td>\n",
              "    </tr>\n",
              "    <tr>\n",
              "      <th>149</th>\n",
              "      <td>https://ciudadseva.com/texto/biografia-de-tade...</td>\n",
              "      <td>El seis de febrero de 1829, los montoneros que...</td>\n",
              "      <td>Biografía de Tadeo Isidoro Cruz</td>\n",
              "      <td>(1829-1874)</td>\n",
              "      <td>Jorge Luis Borges</td>\n",
              "    </tr>\n",
              "    <tr>\n",
              "      <th>150</th>\n",
              "      <td>https://ciudadseva.com/texto/biografia-de-tade...</td>\n",
              "      <td>El seis de febrero de 1829, los montoneros que...</td>\n",
              "      <td>Biografía de Tadeo Isidoro Cruz</td>\n",
              "      <td>(1829-1874)</td>\n",
              "      <td>Jorge Luis Borges</td>\n",
              "    </tr>\n",
              "    <tr>\n",
              "      <th>151</th>\n",
              "      <td>https://ciudadseva.com/texto/del-rigor-en-la-c...</td>\n",
              "      <td>En aquel Imperio, el Arte de la Cartografía lo...</td>\n",
              "      <td>Del Rigor en la Ciencia</td>\n",
              "      <td>[Minicuento - Texto completo.]</td>\n",
              "      <td>Jorge Luis Borges</td>\n",
              "    </tr>\n",
              "    <tr>\n",
              "      <th>152</th>\n",
              "      <td>https://ciudadseva.com/texto/dialogo-sobre-un-...</td>\n",
              "      <td>A- Distraídos en razonar la inmortalidad, habí...</td>\n",
              "      <td>Diálogo sobre un diálogo</td>\n",
              "      <td>[Minicuento - Texto completo.]</td>\n",
              "      <td>Jorge Luis Borges</td>\n",
              "    </tr>\n",
              "    <tr>\n",
              "      <th>153</th>\n",
              "      <td>https://ciudadseva.com/texto/el-acercamiento-a...</td>\n",
              "      <td>Philip Guedalla escribe que la novela The appr...</td>\n",
              "      <td>El acercamiento a Almotásim</td>\n",
              "      <td>[Cuento - Texto completo.]</td>\n",
              "      <td>Jorge Luis Borges</td>\n",
              "    </tr>\n",
              "    <tr>\n",
              "      <th>154</th>\n",
              "      <td>https://ciudadseva.com/texto/el-adivino-2/</td>\n",
              "      <td>En Sumatra, alguien quiere doctorarse de adivi...</td>\n",
              "      <td>El adivino</td>\n",
              "      <td>[Minicuento - Texto completo.]</td>\n",
              "      <td>Jorge Luis Borges</td>\n",
              "    </tr>\n",
              "    <tr>\n",
              "      <th>155</th>\n",
              "      <td>https://ciudadseva.com/texto/el-aleph/</td>\n",
              "      <td>La candente mañana de febrero en que Beatriz V...</td>\n",
              "      <td>El Aleph</td>\n",
              "      <td>[Cuento - Texto completo.]</td>\n",
              "      <td>Jorge Luis Borges</td>\n",
              "    </tr>\n",
              "    <tr>\n",
              "      <th>156</th>\n",
              "      <td>https://ciudadseva.com/texto/el-cautivo/</td>\n",
              "      <td>En Junín o en Tapalqué refieren la historia. U...</td>\n",
              "      <td>El cautivo</td>\n",
              "      <td>[Minicuento - Texto completo.]</td>\n",
              "      <td>Jorge Luis Borges</td>\n",
              "    </tr>\n",
              "    <tr>\n",
              "      <th>157</th>\n",
              "      <td>https://ciudadseva.com/texto/el-evangelio-segu...</td>\n",
              "      <td>El hecho sucedió en la estancia Los Álamos, en...</td>\n",
              "      <td>El evangelio según Marcos</td>\n",
              "      <td>[Cuento - Texto completo.]</td>\n",
              "      <td>Jorge Luis Borges</td>\n",
              "    </tr>\n",
              "    <tr>\n",
              "      <th>158</th>\n",
              "      <td>https://ciudadseva.com/texto/el-fin-borges/</td>\n",
              "      <td>Recabarren, tendido, entreabrió los ojos y vio...</td>\n",
              "      <td>El fin</td>\n",
              "      <td>[Cuento - Texto completo.]</td>\n",
              "      <td>Jorge Luis Borges</td>\n",
              "    </tr>\n",
              "    <tr>\n",
              "      <th>159</th>\n",
              "      <td>https://ciudadseva.com/texto/el-informe-de-bro...</td>\n",
              "      <td>En un ejemplar del primer volumen de las Mil y...</td>\n",
              "      <td>El informe de Brodie</td>\n",
              "      <td>[Cuento - Texto completo.]</td>\n",
              "      <td>Jorge Luis Borges</td>\n",
              "    </tr>\n",
              "    <tr>\n",
              "      <th>160</th>\n",
              "      <td>https://ciudadseva.com/texto/el-inmortal-borges/</td>\n",
              "      <td>En Londres, a principios del mes de junio de 1...</td>\n",
              "      <td>El inmortal</td>\n",
              "      <td>[Cuento - Texto completo.]</td>\n",
              "      <td>Jorge Luis Borges</td>\n",
              "    </tr>\n",
              "    <tr>\n",
              "      <th>161</th>\n",
              "      <td>https://ciudadseva.com/texto/el-jardin-de-los-...</td>\n",
              "      <td>En la página 242 de la Historia de la guerra e...</td>\n",
              "      <td>El jardín de los senderos que se bifurcan</td>\n",
              "      <td>[Cuento - Texto completo.]</td>\n",
              "      <td>Jorge Luis Borges</td>\n",
              "    </tr>\n",
              "    <tr>\n",
              "      <th>162</th>\n",
              "      <td>https://ciudadseva.com/texto/el-libro-de-arena/</td>\n",
              "      <td>La línea consta de un número infinito de punto...</td>\n",
              "      <td>El libro de arena</td>\n",
              "      <td>[Cuento - Texto completo.]</td>\n",
              "      <td>Jorge Luis Borges</td>\n",
              "    </tr>\n",
              "    <tr>\n",
              "      <th>163</th>\n",
              "      <td>https://ciudadseva.com/texto/el-milagro-secreto/</td>\n",
              "      <td>La noche del catorce de marzo de 1939, en un d...</td>\n",
              "      <td>El milagro secreto</td>\n",
              "      <td>[Cuento - Texto completo.]</td>\n",
              "      <td>Jorge Luis Borges</td>\n",
              "    </tr>\n",
              "    <tr>\n",
              "      <th>164</th>\n",
              "      <td>https://ciudadseva.com/texto/el-muerto/</td>\n",
              "      <td>Que un hombre del suburbio de Buenos Aires, qu...</td>\n",
              "      <td>El muerto</td>\n",
              "      <td>[Cuento - Texto completo.]</td>\n",
              "      <td>Jorge Luis Borges</td>\n",
              "    </tr>\n",
              "    <tr>\n",
              "      <th>165</th>\n",
              "      <td>https://ciudadseva.com/texto/el-palacio/</td>\n",
              "      <td>El Palacio no es infinito. Los muros, los terr...</td>\n",
              "      <td>El Palacio</td>\n",
              "      <td>[Minicuento - Texto completo.]</td>\n",
              "      <td>Jorge Luis Borges</td>\n",
              "    </tr>\n",
              "    <tr>\n",
              "      <th>166</th>\n",
              "      <td>https://ciudadseva.com/texto/el-perro-de-doble...</td>\n",
              "      <td>El perro que guardaba los rebaños del triforme...</td>\n",
              "      <td>El perro de doble cuerpo</td>\n",
              "      <td>[Minicuento - Texto completo.]</td>\n",
              "      <td>Jorge Luis Borges</td>\n",
              "    </tr>\n",
              "    <tr>\n",
              "      <th>167</th>\n",
              "      <td>https://ciudadseva.com/texto/el-punal/</td>\n",
              "      <td>En un cajón hay un puñal. Fue forjado en Toled...</td>\n",
              "      <td>El puñal</td>\n",
              "      <td>[Minicuento - Texto completo.]</td>\n",
              "      <td>Jorge Luis Borges</td>\n",
              "    </tr>\n",
              "    <tr>\n",
              "      <th>168</th>\n",
              "      <td>https://ciudadseva.com/texto/el-sur/</td>\n",
              "      <td>El hombre que desembarcó en Buenos Aires en 18...</td>\n",
              "      <td>El sur</td>\n",
              "      <td>[Cuento - Texto completo.]</td>\n",
              "      <td>Jorge Luis Borges</td>\n",
              "    </tr>\n",
              "    <tr>\n",
              "      <th>169</th>\n",
              "      <td>https://ciudadseva.com/texto/emma-zunz/</td>\n",
              "      <td>El catorce de enero de 1922, Emma Zunz, al vol...</td>\n",
              "      <td>Emma Zunz</td>\n",
              "      <td>[Cuento - Texto completo.]</td>\n",
              "      <td>Jorge Luis Borges</td>\n",
              "    </tr>\n",
              "    <tr>\n",
              "      <th>170</th>\n",
              "      <td>https://ciudadseva.com/texto/episodio-del-enem...</td>\n",
              "      <td>Tantos años huyendo y esperando y ahora el ene...</td>\n",
              "      <td>Episodio del enemigo</td>\n",
              "      <td>[Minicuento - Texto completo.]</td>\n",
              "      <td>Jorge Luis Borges</td>\n",
              "    </tr>\n",
              "    <tr>\n",
              "      <th>171</th>\n",
              "      <td>https://ciudadseva.com/texto/examen-de-la-obra...</td>\n",
              "      <td>Herbert Quain ha muerto en Roscommon; he compr...</td>\n",
              "      <td>Examen de la obra de Herbert Quain</td>\n",
              "      <td>[Cuento - Texto completo.]</td>\n",
              "      <td>Jorge Luis Borges</td>\n",
              "    </tr>\n",
              "    <tr>\n",
              "      <th>172</th>\n",
              "      <td>https://ciudadseva.com/texto/funes-el-memorioso/</td>\n",
              "      <td>Lo recuerdo (yo no tengo derecho a pronunciar ...</td>\n",
              "      <td>Funes el memorioso</td>\n",
              "      <td>[Cuento - Texto completo.]</td>\n",
              "      <td>Jorge Luis Borges</td>\n",
              "    </tr>\n",
              "    <tr>\n",
              "      <th>173</th>\n",
              "      <td>https://ciudadseva.com/texto/historia-de-rosen...</td>\n",
              "      <td>Serían las once de la noche, yo había entrado ...</td>\n",
              "      <td>Historia de Rosendo Juárez</td>\n",
              "      <td>[Cuento - Texto completo.]</td>\n",
              "      <td>Jorge Luis Borges</td>\n",
              "    </tr>\n",
              "  </tbody>\n",
              "</table>\n",
              "</div>"
            ],
            "text/plain": [
              "                                                  link  \\\n",
              "144   https://ciudadseva.com/texto/abel-y-cain-borges/   \n",
              "145              https://ciudadseva.com/texto/adrogue/   \n",
              "146       https://ciudadseva.com/texto/alguien-sonara/   \n",
              "147         https://ciudadseva.com/texto/andres-armoa/   \n",
              "148  https://ciudadseva.com/texto/argumentum-ornith...   \n",
              "149  https://ciudadseva.com/texto/biografia-de-tade...   \n",
              "150  https://ciudadseva.com/texto/biografia-de-tade...   \n",
              "151  https://ciudadseva.com/texto/del-rigor-en-la-c...   \n",
              "152  https://ciudadseva.com/texto/dialogo-sobre-un-...   \n",
              "153  https://ciudadseva.com/texto/el-acercamiento-a...   \n",
              "154         https://ciudadseva.com/texto/el-adivino-2/   \n",
              "155             https://ciudadseva.com/texto/el-aleph/   \n",
              "156           https://ciudadseva.com/texto/el-cautivo/   \n",
              "157  https://ciudadseva.com/texto/el-evangelio-segu...   \n",
              "158        https://ciudadseva.com/texto/el-fin-borges/   \n",
              "159  https://ciudadseva.com/texto/el-informe-de-bro...   \n",
              "160   https://ciudadseva.com/texto/el-inmortal-borges/   \n",
              "161  https://ciudadseva.com/texto/el-jardin-de-los-...   \n",
              "162    https://ciudadseva.com/texto/el-libro-de-arena/   \n",
              "163   https://ciudadseva.com/texto/el-milagro-secreto/   \n",
              "164            https://ciudadseva.com/texto/el-muerto/   \n",
              "165           https://ciudadseva.com/texto/el-palacio/   \n",
              "166  https://ciudadseva.com/texto/el-perro-de-doble...   \n",
              "167             https://ciudadseva.com/texto/el-punal/   \n",
              "168               https://ciudadseva.com/texto/el-sur/   \n",
              "169            https://ciudadseva.com/texto/emma-zunz/   \n",
              "170  https://ciudadseva.com/texto/episodio-del-enem...   \n",
              "171  https://ciudadseva.com/texto/examen-de-la-obra...   \n",
              "172   https://ciudadseva.com/texto/funes-el-memorioso/   \n",
              "173  https://ciudadseva.com/texto/historia-de-rosen...   \n",
              "\n",
              "                                                  text  \\\n",
              "144  Abel y Caín se encontraron después de la muert...   \n",
              "145  Era muy lindo, un pueblo laberíntico. A veces,...   \n",
              "146  ¿Qué soñará el indescifrable futuro? Soñará qu...   \n",
              "147  Los años le han dejado unas palabras en guaran...   \n",
              "148  Cierro los ojos y veo una bandada de pájaros. ...   \n",
              "149  El seis de febrero de 1829, los montoneros que...   \n",
              "150  El seis de febrero de 1829, los montoneros que...   \n",
              "151  En aquel Imperio, el Arte de la Cartografía lo...   \n",
              "152  A- Distraídos en razonar la inmortalidad, habí...   \n",
              "153  Philip Guedalla escribe que la novela The appr...   \n",
              "154  En Sumatra, alguien quiere doctorarse de adivi...   \n",
              "155  La candente mañana de febrero en que Beatriz V...   \n",
              "156  En Junín o en Tapalqué refieren la historia. U...   \n",
              "157  El hecho sucedió en la estancia Los Álamos, en...   \n",
              "158  Recabarren, tendido, entreabrió los ojos y vio...   \n",
              "159  En un ejemplar del primer volumen de las Mil y...   \n",
              "160  En Londres, a principios del mes de junio de 1...   \n",
              "161  En la página 242 de la Historia de la guerra e...   \n",
              "162  La línea consta de un número infinito de punto...   \n",
              "163  La noche del catorce de marzo de 1939, en un d...   \n",
              "164  Que un hombre del suburbio de Buenos Aires, qu...   \n",
              "165  El Palacio no es infinito. Los muros, los terr...   \n",
              "166  El perro que guardaba los rebaños del triforme...   \n",
              "167  En un cajón hay un puñal. Fue forjado en Toled...   \n",
              "168  El hombre que desembarcó en Buenos Aires en 18...   \n",
              "169  El catorce de enero de 1922, Emma Zunz, al vol...   \n",
              "170  Tantos años huyendo y esperando y ahora el ene...   \n",
              "171  Herbert Quain ha muerto en Roscommon; he compr...   \n",
              "172  Lo recuerdo (yo no tengo derecho a pronunciar ...   \n",
              "173  Serían las once de la noche, yo había entrado ...   \n",
              "\n",
              "                                         title  \\\n",
              "144                                Abel y Caín   \n",
              "145                                    Adrogué   \n",
              "146                             Alguien soñará   \n",
              "147                               Andrés Armoa   \n",
              "148                  Argumentum ornithologicum   \n",
              "149            Biografía de Tadeo Isidoro Cruz   \n",
              "150            Biografía de Tadeo Isidoro Cruz   \n",
              "151                    Del Rigor en la Ciencia   \n",
              "152                   Diálogo sobre un diálogo   \n",
              "153                El acercamiento a Almotásim   \n",
              "154                                 El adivino   \n",
              "155                                   El Aleph   \n",
              "156                                 El cautivo   \n",
              "157                  El evangelio según Marcos   \n",
              "158                                     El fin   \n",
              "159                       El informe de Brodie   \n",
              "160                                El inmortal   \n",
              "161  El jardín de los senderos que se bifurcan   \n",
              "162                          El libro de arena   \n",
              "163                         El milagro secreto   \n",
              "164                                  El muerto   \n",
              "165                                 El Palacio   \n",
              "166                   El perro de doble cuerpo   \n",
              "167                                   El puñal   \n",
              "168                                     El sur   \n",
              "169                                  Emma Zunz   \n",
              "170                       Episodio del enemigo   \n",
              "171         Examen de la obra de Herbert Quain   \n",
              "172                         Funes el memorioso   \n",
              "173                 Historia de Rosendo Juárez   \n",
              "\n",
              "                           metadata             author  \n",
              "144  [Minicuento - Texto completo.]  Jorge Luis Borges  \n",
              "145  [Minicuento - Texto completo.]  Jorge Luis Borges  \n",
              "146  [Minicuento - Texto completo.]  Jorge Luis Borges  \n",
              "147  [Minicuento - Texto completo.]  Jorge Luis Borges  \n",
              "148  [Minicuento - Texto completo.]  Jorge Luis Borges  \n",
              "149                     (1829-1874)  Jorge Luis Borges  \n",
              "150                     (1829-1874)  Jorge Luis Borges  \n",
              "151  [Minicuento - Texto completo.]  Jorge Luis Borges  \n",
              "152  [Minicuento - Texto completo.]  Jorge Luis Borges  \n",
              "153      [Cuento - Texto completo.]  Jorge Luis Borges  \n",
              "154  [Minicuento - Texto completo.]  Jorge Luis Borges  \n",
              "155      [Cuento - Texto completo.]  Jorge Luis Borges  \n",
              "156  [Minicuento - Texto completo.]  Jorge Luis Borges  \n",
              "157      [Cuento - Texto completo.]  Jorge Luis Borges  \n",
              "158      [Cuento - Texto completo.]  Jorge Luis Borges  \n",
              "159      [Cuento - Texto completo.]  Jorge Luis Borges  \n",
              "160      [Cuento - Texto completo.]  Jorge Luis Borges  \n",
              "161      [Cuento - Texto completo.]  Jorge Luis Borges  \n",
              "162      [Cuento - Texto completo.]  Jorge Luis Borges  \n",
              "163      [Cuento - Texto completo.]  Jorge Luis Borges  \n",
              "164      [Cuento - Texto completo.]  Jorge Luis Borges  \n",
              "165  [Minicuento - Texto completo.]  Jorge Luis Borges  \n",
              "166  [Minicuento - Texto completo.]  Jorge Luis Borges  \n",
              "167  [Minicuento - Texto completo.]  Jorge Luis Borges  \n",
              "168      [Cuento - Texto completo.]  Jorge Luis Borges  \n",
              "169      [Cuento - Texto completo.]  Jorge Luis Borges  \n",
              "170  [Minicuento - Texto completo.]  Jorge Luis Borges  \n",
              "171      [Cuento - Texto completo.]  Jorge Luis Borges  \n",
              "172      [Cuento - Texto completo.]  Jorge Luis Borges  \n",
              "173      [Cuento - Texto completo.]  Jorge Luis Borges  "
            ]
          },
          "execution_count": 6,
          "metadata": {},
          "output_type": "execute_result"
        }
      ],
      "source": [
        "# Nos quedamos unicamente 30 obras de Borges. Nota: se seleccionaron 30 unicamente por inconvenientes de RAM a la hora de entrenar los modelos\n",
        "\n",
        "df = pd.read_csv('full_corpus.csv').drop(columns=[\"Unnamed: 0\"])\n",
        "df_borges = df[df.author == 'Jorge Luis Borges'][:30]\n",
        "print(f'Cantidad de documentos: {df_borges.shape[0]}')\n",
        "df_borges"
      ]
    },
    {
      "cell_type": "code",
      "execution_count": 8,
      "metadata": {
        "id": "neEB3s3h-1Ph"
      },
      "outputs": [],
      "source": [
        "# Concatenamos todas las obras de Borges y le eliminamos la palabra FIN, ya que la mayoría de las obras la tienen, con el fin de evitar relaciones impropias\n",
        "article_text = ' '.join(df_borges['text'].astype(str))\n",
        "article_text = article_text.replace('FIN', '')\n",
        "\n",
        "# Guardamos el corpus concatenado\n",
        "\n",
        "with open('obras_borges.csv', 'w', encoding='utf-8') as f:\n",
        "    f.write(article_text)\n"
      ]
    },
    {
      "cell_type": "markdown",
      "metadata": {
        "id": "cP1JdiOIKQWi"
      },
      "source": [
        "### Elegir el tamaño del contexto\n",
        "\n",
        "En este caso, como el modelo de lenguaje es por caracteres, todo un gran corpus\n",
        "de texto puede ser considerado un documento en sí mismo y el tamaño de contexto\n",
        "puede ser elegido con más libertad en comparación a un modelo de lenguaje tokenizado por palabras y dividido en documentos más acotados."
      ]
    },
    {
      "cell_type": "code",
      "execution_count": 9,
      "metadata": {
        "id": "wumBNwdjJM3j"
      },
      "outputs": [],
      "source": [
        "# seleccionamos el tamaño de contexto\n",
        "max_context_size = 100"
      ]
    },
    {
      "cell_type": "code",
      "execution_count": 10,
      "metadata": {
        "id": "m5FeTaGvbDbw"
      },
      "outputs": [],
      "source": [
        "# Usaremos las utilidades de procesamiento de textos y secuencias de Keras\n",
        "from tensorflow.keras.utils import pad_sequences # se utilizará para padding"
      ]
    },
    {
      "cell_type": "code",
      "execution_count": 11,
      "metadata": {
        "id": "573Cg5n7VhWw"
      },
      "outputs": [],
      "source": [
        "# en este caso el vocabulario es el conjunto único de caracteres que existe en todo el texto\n",
        "chars_vocab = set(article_text)\n",
        "\n",
        "# pasar todo el texto a minúscula\n",
        "article_text = article_text.lower()\n"
      ]
    },
    {
      "cell_type": "code",
      "execution_count": 12,
      "metadata": {
        "colab": {
          "base_uri": "https://localhost:8080/"
        },
        "id": "VwTK6xgLJd8q",
        "outputId": "db2b9e11-eee6-4df7-96b0-9498e0915eb0"
      },
      "outputs": [
        {
          "data": {
            "text/plain": [
              "100"
            ]
          },
          "execution_count": 12,
          "metadata": {},
          "output_type": "execute_result"
        }
      ],
      "source": [
        "# la longitud de vocabulario de caracteres es:\n",
        "len(chars_vocab)"
      ]
    },
    {
      "cell_type": "code",
      "execution_count": 13,
      "metadata": {
        "colab": {
          "base_uri": "https://localhost:8080/"
        },
        "collapsed": true,
        "id": "hZIlM52d_Z9g",
        "outputId": "40433db5-8c7f-45fc-9992-8ef8dfa4ba82"
      },
      "outputs": [
        {
          "data": {
            "text/plain": [
              "{' ',\n",
              " '!',\n",
              " '(',\n",
              " ')',\n",
              " '*',\n",
              " ',',\n",
              " '-',\n",
              " '.',\n",
              " '0',\n",
              " '1',\n",
              " '2',\n",
              " '3',\n",
              " '4',\n",
              " '5',\n",
              " '6',\n",
              " '7',\n",
              " '8',\n",
              " '9',\n",
              " ':',\n",
              " ';',\n",
              " '?',\n",
              " 'A',\n",
              " 'B',\n",
              " 'C',\n",
              " 'D',\n",
              " 'E',\n",
              " 'F',\n",
              " 'G',\n",
              " 'H',\n",
              " 'I',\n",
              " 'J',\n",
              " 'K',\n",
              " 'L',\n",
              " 'M',\n",
              " 'N',\n",
              " 'O',\n",
              " 'P',\n",
              " 'Q',\n",
              " 'R',\n",
              " 'S',\n",
              " 'T',\n",
              " 'U',\n",
              " 'V',\n",
              " 'W',\n",
              " 'X',\n",
              " 'Y',\n",
              " 'Z',\n",
              " 'a',\n",
              " 'b',\n",
              " 'c',\n",
              " 'd',\n",
              " 'e',\n",
              " 'f',\n",
              " 'g',\n",
              " 'h',\n",
              " 'i',\n",
              " 'j',\n",
              " 'k',\n",
              " 'l',\n",
              " 'm',\n",
              " 'n',\n",
              " 'o',\n",
              " 'p',\n",
              " 'q',\n",
              " 'r',\n",
              " 's',\n",
              " 't',\n",
              " 'u',\n",
              " 'v',\n",
              " 'w',\n",
              " 'x',\n",
              " 'y',\n",
              " 'z',\n",
              " '¡',\n",
              " '«',\n",
              " '²',\n",
              " '¹',\n",
              " '»',\n",
              " '¿',\n",
              " 'Á',\n",
              " 'É',\n",
              " 'Í',\n",
              " 'Ú',\n",
              " 'á',\n",
              " 'ä',\n",
              " 'é',\n",
              " 'ê',\n",
              " 'ë',\n",
              " 'í',\n",
              " 'ñ',\n",
              " 'ó',\n",
              " 'ö',\n",
              " 'ú',\n",
              " 'ü',\n",
              " '–',\n",
              " '—',\n",
              " '’',\n",
              " '“',\n",
              " '”',\n",
              " '…'}"
            ]
          },
          "execution_count": 13,
          "metadata": {},
          "output_type": "execute_result"
        }
      ],
      "source": [
        "chars_vocab"
      ]
    },
    {
      "cell_type": "markdown",
      "metadata": {},
      "source": [
        "Se observan algunas caracteres que pueden resultar irrelevantes para nuestro caso de estio como: '\\xad' ,'²', '³', '¹'."
      ]
    },
    {
      "cell_type": "code",
      "execution_count": 14,
      "metadata": {
        "id": "ijqD-bK__mcg"
      },
      "outputs": [
        {
          "name": "stdout",
          "output_type": "stream",
          "text": [
            "68\n"
          ]
        }
      ],
      "source": [
        "# Eliminamos algunos caracteres que no son útiles y redefinimos chars_vocab\n",
        "article_text = article_text.replace('\\xad', '').replace('²', '').replace('³','').replace('¹', '')\n",
        "chars_vocab = set(article_text)\n",
        "print(len(chars_vocab))"
      ]
    },
    {
      "cell_type": "code",
      "execution_count": 15,
      "metadata": {
        "id": "2W0AeQjXV1Ou"
      },
      "outputs": [],
      "source": [
        "# Construimos los dicionarios que asignan índices a caracteres y viceversa.\n",
        "# El diccionario `char2idx` servirá como tokenizador.\n",
        "\n",
        "# Nota el diccionario char2idx se extrajo de una corrida previa y es necesario definirlo de manera hard-codeada para utilizar los modelos guardados\n",
        "char2idx = {'e': 0,\n",
        " '8': 1,\n",
        " '5': 2,\n",
        " 'c': 3,\n",
        " 't': 4,\n",
        " 'n': 5,\n",
        " '¿': 6,\n",
        " '¡': 7,\n",
        " 'l': 8,\n",
        " '—': 9,\n",
        " 'j': 10,\n",
        " ':': 11,\n",
        " 'f': 12,\n",
        " 'x': 13,\n",
        " 'z': 14,\n",
        " 'y': 15,\n",
        " 'u': 16,\n",
        " 'q': 17,\n",
        " '”': 18,\n",
        " '…': 19,\n",
        " 'á': 20,\n",
        " 'a': 21,\n",
        " 'g': 22,\n",
        " '-': 23,\n",
        " 'o': 24,\n",
        " ';': 25,\n",
        " '7': 26,\n",
        " '*': 27,\n",
        " '2': 28,\n",
        " 'w': 29,\n",
        " '!': 30,\n",
        " 'é': 31,\n",
        " 'í': 32,\n",
        " 'ú': 33,\n",
        " '(': 34,\n",
        " '4': 35,\n",
        " 'ü': 36,\n",
        " '?': 37,\n",
        " '6': 38,\n",
        " '’': 39,\n",
        " ' ': 40,\n",
        " 'ö': 41,\n",
        " 'm': 42,\n",
        " 'ê': 43,\n",
        " 'b': 44,\n",
        " 'i': 45,\n",
        " 'ñ': 46,\n",
        " 'v': 47,\n",
        " 'k': 48,\n",
        " 'r': 49,\n",
        " '.': 50,\n",
        " '1': 51,\n",
        " 'p': 52,\n",
        " ')': 53,\n",
        " '3': 54,\n",
        " '9': 55,\n",
        " '0': 56,\n",
        " '«': 57,\n",
        " '–': 58,\n",
        " '»': 59,\n",
        " 'ë': 60,\n",
        " 'h': 61,\n",
        " 's': 62,\n",
        " 'ó': 63,\n",
        " ',': 64,\n",
        " 'ä': 65,\n",
        " 'd': 66,\n",
        " '“': 67}\n",
        "idx2char = {v: k for k,v in char2idx.items()}"
      ]
    },
    {
      "cell_type": "markdown",
      "metadata": {
        "id": "2oIUjVU0LB0r"
      },
      "source": [
        "###  Tokenizar"
      ]
    },
    {
      "cell_type": "code",
      "execution_count": 16,
      "metadata": {
        "id": "h07G3srdJppo"
      },
      "outputs": [],
      "source": [
        "# tokenizamos el texto completo\n",
        "tokenized_text = [char2idx[ch] for ch in article_text]"
      ]
    },
    {
      "cell_type": "markdown",
      "metadata": {
        "id": "pfpYcaypKcI9"
      },
      "source": [
        "### Organizando y estructurando el dataset"
      ]
    },
    {
      "cell_type": "code",
      "execution_count": 17,
      "metadata": {
        "id": "WSSmg9jtKP0T"
      },
      "outputs": [],
      "source": [
        "# separaremos el dataset entre entrenamiento y validación.\n",
        "# `p_val` será la proporción del corpus que se reservará para validación\n",
        "# `num_val` es la cantidad de secuencias de tamaño `max_context_size` que se usará en validación\n",
        "p_val = 0.1\n",
        "num_val = int(np.ceil(len(tokenized_text)*p_val/max_context_size))"
      ]
    },
    {
      "cell_type": "code",
      "execution_count": 18,
      "metadata": {
        "id": "b7dCpGrdKll0"
      },
      "outputs": [],
      "source": [
        "# separamos la porción de texto utilizada en entrenamiento de la de validación.\n",
        "train_text = tokenized_text[:-num_val*max_context_size]\n",
        "val_text = tokenized_text[-num_val*max_context_size:]"
      ]
    },
    {
      "cell_type": "code",
      "execution_count": 19,
      "metadata": {
        "id": "NmxQdxl8LRCg"
      },
      "outputs": [],
      "source": [
        "tokenized_sentences_val = [val_text[init*max_context_size:init*(max_context_size+1)] for init in range(num_val)]"
      ]
    },
    {
      "cell_type": "code",
      "execution_count": 20,
      "metadata": {
        "id": "_gyFT9koLqDm"
      },
      "outputs": [],
      "source": [
        "tokenized_sentences_train = [train_text[init:init+max_context_size] for init in range(len(train_text)-max_context_size+1)]"
      ]
    },
    {
      "cell_type": "code",
      "execution_count": 21,
      "metadata": {
        "id": "oVNqmmLRodT0"
      },
      "outputs": [],
      "source": [
        "X = np.array(tokenized_sentences_train[:-1])\n",
        "y = np.array(tokenized_sentences_train[1:])"
      ]
    },
    {
      "cell_type": "markdown",
      "metadata": {
        "id": "Vken7O4ETsAJ"
      },
      "source": [
        "Nótese que estamos estructurando el problema de aprendizaje como *many-to-many*:\n",
        "\n",
        "Entrada: secuencia de tokens [$x_0$, $x_1$, ..., $x_N$]\n",
        "\n",
        "Target: secuencia de tokens [$x_1$, $x_2$, ..., $x_{N+1}$]\n",
        "\n",
        "De manera que la red tiene que aprender que su salida deben ser los tokens desplazados en una posición y un nuevo token predicho (el N+1).\n",
        "\n",
        "La ventaja de estructurar el aprendizaje de esta manera es que para cada token de target se propaga una señal de gradiente por el grafo de cómputo recurrente, que es mejor que estructurar el problema como *many-to-one* en donde sólo una señal de gradiente se propaga."
      ]
    },
    {
      "cell_type": "markdown",
      "metadata": {
        "id": "l3iPTx-UJl6r"
      },
      "source": [
        "En este punto tenemos en la variable `tokenized_sentences` los versos tokenizados. Vamos a quedarnos con un conjunto de validación que utilizaremos para medir la calidad de la generación de secuencias con la métrica de Perplejidad."
      ]
    },
    {
      "cell_type": "code",
      "execution_count": 23,
      "metadata": {
        "colab": {
          "base_uri": "https://localhost:8080/"
        },
        "id": "qcKRl70HFTzG",
        "outputId": "a0a5a029-ef2e-4a90-aeab-5fa04c0bfe05"
      },
      "outputs": [
        {
          "data": {
            "text/plain": [
              "array([21, 44,  0,  8, 40, 15, 40,  3, 21, 32,  5, 40, 62,  0, 40,  0,  5,\n",
              "        3, 24,  5,  4, 49, 21, 49, 24,  5, 40, 66,  0, 62, 52, 16, 31, 62,\n",
              "       40, 66,  0, 40,  8, 21, 40, 42, 16,  0, 49,  4,  0, 40, 66,  0, 40,\n",
              "       21, 44,  0,  8, 50, 40,  3, 21, 42, 45,  5, 21, 44, 21,  5, 40, 52,\n",
              "       24, 49, 40,  0,  8, 40, 66,  0, 62, 45,  0, 49,  4, 24, 40, 15, 40,\n",
              "       62,  0, 40, 49,  0,  3, 24,  5, 24,  3, 45,  0, 49, 24,  5])"
            ]
          },
          "execution_count": 23,
          "metadata": {},
          "output_type": "execute_result"
        }
      ],
      "source": [
        "X[0]"
      ]
    },
    {
      "cell_type": "code",
      "execution_count": 24,
      "metadata": {
        "colab": {
          "base_uri": "https://localhost:8080/"
        },
        "id": "TVpLCKSZFXZO",
        "outputId": "cb42ca72-203e-418a-bb1a-722aad71dd9a"
      },
      "outputs": [
        {
          "data": {
            "text/plain": [
              "array([44,  0,  8, 40, 15, 40,  3, 21, 32,  5, 40, 62,  0, 40,  0,  5,  3,\n",
              "       24,  5,  4, 49, 21, 49, 24,  5, 40, 66,  0, 62, 52, 16, 31, 62, 40,\n",
              "       66,  0, 40,  8, 21, 40, 42, 16,  0, 49,  4,  0, 40, 66,  0, 40, 21,\n",
              "       44,  0,  8, 50, 40,  3, 21, 42, 45,  5, 21, 44, 21,  5, 40, 52, 24,\n",
              "       49, 40,  0,  8, 40, 66,  0, 62, 45,  0, 49,  4, 24, 40, 15, 40, 62,\n",
              "        0, 40, 49,  0,  3, 24,  5, 24,  3, 45,  0, 49, 24,  5, 40])"
            ]
          },
          "execution_count": 24,
          "metadata": {},
          "output_type": "execute_result"
        }
      ],
      "source": [
        "y[0]"
      ]
    },
    {
      "cell_type": "markdown",
      "metadata": {
        "id": "tnnjdAQ5UAEJ"
      },
      "source": [
        "# Definiendo los modelos"
      ]
    },
    {
      "cell_type": "code",
      "execution_count": 25,
      "metadata": {
        "id": "rkMCZvmhrQz4"
      },
      "outputs": [],
      "source": [
        "from keras.layers import Input, TimeDistributed, CategoryEncoding, SimpleRNN, Dense\n",
        "from keras.models import Model, Sequential"
      ]
    },
    {
      "cell_type": "markdown",
      "metadata": {
        "id": "GmJWNyxQwfCE"
      },
      "source": [
        "\n",
        "### Definir el modelo"
      ]
    },
    {
      "cell_type": "markdown",
      "metadata": {
        "id": "YWK3z85sQfUe"
      },
      "source": [
        "Dado que por el momento no hay implementaciones adecuadas de la perplejidad que puedan operar en tiempo de entrenamiento, armaremos un Callback *ad-hoc* que la calcule en cada epoch.\n",
        "\n",
        "**Nota**: un Callback es una rutina gatillada por algún evento, son muy útiles para relevar datos en diferentes momentos del desarrollo del modelo. En este caso queremos hacer un cálculo cada vez que termina una epoch de entrenamiento."
      ]
    },
    {
      "cell_type": "code",
      "execution_count": 26,
      "metadata": {
        "id": "zUHX3r5JD-MG"
      },
      "outputs": [],
      "source": [
        "\n",
        "class PplCallback(keras.callbacks.Callback):\n",
        "\n",
        "    '''\n",
        "    Este callback es una solución ad-hoc para calcular al final de cada epoch de\n",
        "    entrenamiento la métrica de Perplejidad sobre un conjunto de datos de validación.\n",
        "    La perplejidad es una métrica cuantitativa para evaluar la calidad de la generación de secuencias.\n",
        "    Además implementa la finalización del entrenamiento (Early Stopping)\n",
        "    si la perplejidad no mejora después de `patience` epochs.\n",
        "    '''\n",
        "\n",
        "    def __init__(self, val_data, history_ppl,patience=5, name_model=\"my_model.keras\"):\n",
        "      # El callback lo inicializamos con secuencias de validación sobre las cuales\n",
        "      # mediremos la perplejidad\n",
        "      self.val_data = val_data\n",
        "\n",
        "      self.target = []\n",
        "      self.padded = []\n",
        "\n",
        "      count = 0\n",
        "      self.info = []\n",
        "      self.min_score = np.inf\n",
        "      self.patience_counter = 0\n",
        "      self.history_ppl = history_ppl\n",
        "      self.patience = patience\n",
        "      self.name_model = name_model\n",
        "\n",
        "      # nos movemos en todas las secuencias de los datos de validación\n",
        "      for seq in self.val_data:\n",
        "\n",
        "        len_seq = len(seq)\n",
        "        # armamos todas las subsecuencias\n",
        "        subseq = [seq[:i] for i in range(1,len_seq)]\n",
        "        self.target.extend([seq[i] for i in range(1,len_seq)])\n",
        "\n",
        "        if len(subseq)!=0:\n",
        "\n",
        "          self.padded.append(pad_sequences(subseq, maxlen=max_context_size, padding='pre'))\n",
        "\n",
        "          self.info.append((count,count+len_seq))\n",
        "          count += len_seq\n",
        "\n",
        "      self.padded = np.vstack(self.padded)\n",
        "\n",
        "\n",
        "    def on_epoch_end(self, epoch, logs=None):\n",
        "\n",
        "        # en `scores` iremos guardando la perplejidad de cada secuencia\n",
        "        scores = []\n",
        "\n",
        "        predictions = self.model.predict(self.padded,verbose=0)\n",
        "\n",
        "        # para cada secuencia de validación\n",
        "        print(self.name_model)\n",
        "        for start,end in self.info:\n",
        "\n",
        "          # en `probs` iremos guardando las probabilidades de los términos target\n",
        "          probs = [predictions[idx_seq,-1,idx_vocab] for idx_seq, idx_vocab in zip(range(start,end),self.target[start:end])]\n",
        "\n",
        "          # calculamos la perplejidad por medio de logaritmos\n",
        "          scores.append(np.exp(-np.sum(np.log(probs))/(end-start)))\n",
        "\n",
        "        # promediamos todos los scores e imprimimos el valor promedio\n",
        "        current_score = np.mean(scores)\n",
        "        self.history_ppl.append(current_score)\n",
        "        print(f'\\n mean perplexity: {current_score} \\n')\n",
        "\n",
        "        # chequeamos si tenemos que detener el entrenamiento\n",
        "        if current_score < self.min_score:\n",
        "          self.min_score = current_score\n",
        "          self.model.save(self.name_model)\n",
        "          print(\"Saved new model!\")\n",
        "          self.patience_counter = 0\n",
        "        else:\n",
        "          self.patience_counter += 1\n",
        "          if self.patience_counter == self.patience:\n",
        "            print(\"Stopping training...\")\n",
        "            self.model.stop_training = True\n"
      ]
    },
    {
      "cell_type": "markdown",
      "metadata": {},
      "source": [
        "El modelo que se propone como ejemplo consume los índices de los tokens y los transforma en vectores OHE (en este caso no entrenamos una capa de embedding para caracteres). Esa transformación se logra combinando las capas `CategoryEncoding` que transforma a índices a vectores OHE y `TimeDistributed` que aplica la capa a lo largo de la dimensión \"temporal\" de la secuencia."
      ]
    },
    {
      "cell_type": "code",
      "execution_count": 27,
      "metadata": {
        "colab": {
          "base_uri": "https://localhost:8080/",
          "height": 316
        },
        "id": "Zd2OkfQYs2Q7",
        "outputId": "84d4271c-4338-48b1-a155-968d92fa735e"
      },
      "outputs": [
        {
          "name": "stderr",
          "output_type": "stream",
          "text": [
            "/home/nacho/.local/lib/python3.10/site-packages/keras/src/layers/core/wrapper.py:27: UserWarning: Do not pass an `input_shape`/`input_dim` argument to a layer. When using Sequential models, prefer using an `Input(shape)` object as the first layer in the model instead.\n",
            "  super().__init__(**kwargs)\n"
          ]
        },
        {
          "data": {
            "text/html": [
              "<pre style=\"white-space:pre;overflow-x:auto;line-height:normal;font-family:Menlo,'DejaVu Sans Mono',consolas,'Courier New',monospace\"><span style=\"font-weight: bold\">Model: \"sequential\"</span>\n",
              "</pre>\n"
            ],
            "text/plain": [
              "\u001b[1mModel: \"sequential\"\u001b[0m\n"
            ]
          },
          "metadata": {},
          "output_type": "display_data"
        },
        {
          "data": {
            "text/html": [
              "<pre style=\"white-space:pre;overflow-x:auto;line-height:normal;font-family:Menlo,'DejaVu Sans Mono',consolas,'Courier New',monospace\">┏━━━━━━━━━━━━━━━━━━━━━━━━━━━━━━━━━┳━━━━━━━━━━━━━━━━━━━━━━━━┳━━━━━━━━━━━━━━━┓\n",
              "┃<span style=\"font-weight: bold\"> Layer (type)                    </span>┃<span style=\"font-weight: bold\"> Output Shape           </span>┃<span style=\"font-weight: bold\">       Param # </span>┃\n",
              "┡━━━━━━━━━━━━━━━━━━━━━━━━━━━━━━━━━╇━━━━━━━━━━━━━━━━━━━━━━━━╇━━━━━━━━━━━━━━━┩\n",
              "│ time_distributed                │ (<span style=\"color: #00d7ff; text-decoration-color: #00d7ff\">None</span>, <span style=\"color: #00d7ff; text-decoration-color: #00d7ff\">None</span>, <span style=\"color: #00af00; text-decoration-color: #00af00\">68</span>)       │             <span style=\"color: #00af00; text-decoration-color: #00af00\">0</span> │\n",
              "│ (<span style=\"color: #0087ff; text-decoration-color: #0087ff\">TimeDistributed</span>)               │                        │               │\n",
              "├─────────────────────────────────┼────────────────────────┼───────────────┤\n",
              "│ simple_rnn (<span style=\"color: #0087ff; text-decoration-color: #0087ff\">SimpleRNN</span>)          │ (<span style=\"color: #00d7ff; text-decoration-color: #00d7ff\">None</span>, <span style=\"color: #00d7ff; text-decoration-color: #00d7ff\">None</span>, <span style=\"color: #00af00; text-decoration-color: #00af00\">200</span>)      │        <span style=\"color: #00af00; text-decoration-color: #00af00\">53,800</span> │\n",
              "├─────────────────────────────────┼────────────────────────┼───────────────┤\n",
              "│ dense (<span style=\"color: #0087ff; text-decoration-color: #0087ff\">Dense</span>)                   │ (<span style=\"color: #00d7ff; text-decoration-color: #00d7ff\">None</span>, <span style=\"color: #00d7ff; text-decoration-color: #00d7ff\">None</span>, <span style=\"color: #00af00; text-decoration-color: #00af00\">68</span>)       │        <span style=\"color: #00af00; text-decoration-color: #00af00\">13,668</span> │\n",
              "└─────────────────────────────────┴────────────────────────┴───────────────┘\n",
              "</pre>\n"
            ],
            "text/plain": [
              "┏━━━━━━━━━━━━━━━━━━━━━━━━━━━━━━━━━┳━━━━━━━━━━━━━━━━━━━━━━━━┳━━━━━━━━━━━━━━━┓\n",
              "┃\u001b[1m \u001b[0m\u001b[1mLayer (type)                   \u001b[0m\u001b[1m \u001b[0m┃\u001b[1m \u001b[0m\u001b[1mOutput Shape          \u001b[0m\u001b[1m \u001b[0m┃\u001b[1m \u001b[0m\u001b[1m      Param #\u001b[0m\u001b[1m \u001b[0m┃\n",
              "┡━━━━━━━━━━━━━━━━━━━━━━━━━━━━━━━━━╇━━━━━━━━━━━━━━━━━━━━━━━━╇━━━━━━━━━━━━━━━┩\n",
              "│ time_distributed                │ (\u001b[38;5;45mNone\u001b[0m, \u001b[38;5;45mNone\u001b[0m, \u001b[38;5;34m68\u001b[0m)       │             \u001b[38;5;34m0\u001b[0m │\n",
              "│ (\u001b[38;5;33mTimeDistributed\u001b[0m)               │                        │               │\n",
              "├─────────────────────────────────┼────────────────────────┼───────────────┤\n",
              "│ simple_rnn (\u001b[38;5;33mSimpleRNN\u001b[0m)          │ (\u001b[38;5;45mNone\u001b[0m, \u001b[38;5;45mNone\u001b[0m, \u001b[38;5;34m200\u001b[0m)      │        \u001b[38;5;34m53,800\u001b[0m │\n",
              "├─────────────────────────────────┼────────────────────────┼───────────────┤\n",
              "│ dense (\u001b[38;5;33mDense\u001b[0m)                   │ (\u001b[38;5;45mNone\u001b[0m, \u001b[38;5;45mNone\u001b[0m, \u001b[38;5;34m68\u001b[0m)       │        \u001b[38;5;34m13,668\u001b[0m │\n",
              "└─────────────────────────────────┴────────────────────────┴───────────────┘\n"
            ]
          },
          "metadata": {},
          "output_type": "display_data"
        },
        {
          "data": {
            "text/html": [
              "<pre style=\"white-space:pre;overflow-x:auto;line-height:normal;font-family:Menlo,'DejaVu Sans Mono',consolas,'Courier New',monospace\"><span style=\"font-weight: bold\"> Total params: </span><span style=\"color: #00af00; text-decoration-color: #00af00\">67,468</span> (263.55 KB)\n",
              "</pre>\n"
            ],
            "text/plain": [
              "\u001b[1m Total params: \u001b[0m\u001b[38;5;34m67,468\u001b[0m (263.55 KB)\n"
            ]
          },
          "metadata": {},
          "output_type": "display_data"
        },
        {
          "data": {
            "text/html": [
              "<pre style=\"white-space:pre;overflow-x:auto;line-height:normal;font-family:Menlo,'DejaVu Sans Mono',consolas,'Courier New',monospace\"><span style=\"font-weight: bold\"> Trainable params: </span><span style=\"color: #00af00; text-decoration-color: #00af00\">67,468</span> (263.55 KB)\n",
              "</pre>\n"
            ],
            "text/plain": [
              "\u001b[1m Trainable params: \u001b[0m\u001b[38;5;34m67,468\u001b[0m (263.55 KB)\n"
            ]
          },
          "metadata": {},
          "output_type": "display_data"
        },
        {
          "data": {
            "text/html": [
              "<pre style=\"white-space:pre;overflow-x:auto;line-height:normal;font-family:Menlo,'DejaVu Sans Mono',consolas,'Courier New',monospace\"><span style=\"font-weight: bold\"> Non-trainable params: </span><span style=\"color: #00af00; text-decoration-color: #00af00\">0</span> (0.00 B)\n",
              "</pre>\n"
            ],
            "text/plain": [
              "\u001b[1m Non-trainable params: \u001b[0m\u001b[38;5;34m0\u001b[0m (0.00 B)\n"
            ]
          },
          "metadata": {},
          "output_type": "display_data"
        }
      ],
      "source": [
        "# Definimos para todos los modelos el vocab_size como la cantidad de caracteres permitidos\n",
        "\n",
        "vocab_size = len(chars_vocab)\n",
        "\n",
        "model = Sequential()\n",
        "\n",
        "model.add(TimeDistributed(CategoryEncoding(num_tokens=vocab_size, output_mode = \"one_hot\"),input_shape=(None,1)))\n",
        "model.add(SimpleRNN(200, return_sequences=True, dropout=0.1, recurrent_dropout=0.1 ))\n",
        "model.add(Dense(vocab_size, activation='softmax'))\n",
        "model.compile(loss='sparse_categorical_crossentropy', optimizer='rmsprop')\n",
        "\n",
        "model.summary()"
      ]
    },
    {
      "cell_type": "markdown",
      "metadata": {
        "id": "8HBZIwR0gruA"
      },
      "source": [
        "### Entrenamiento"
      ]
    },
    {
      "cell_type": "code",
      "execution_count": null,
      "metadata": {
        "colab": {
          "base_uri": "https://localhost:8080/"
        },
        "collapsed": true,
        "id": "oQq1PHDkxDvN",
        "outputId": "7cfdfc21-3837-4f93-ff7d-b3a65db928aa"
      },
      "outputs": [
        {
          "name": "stdout",
          "output_type": "stream",
          "text": [
            "Epoch 1/20\n",
            "\u001b[1m925/925\u001b[0m \u001b[32m━━━━━━━━━━━━━━━━━━━━\u001b[0m\u001b[37m\u001b[0m \u001b[1m0s\u001b[0m 17ms/step - loss: 2.5425srnn.keras\n",
            "\n",
            " mean perplexity: 8.269874717443043 \n",
            "\n",
            "Saved new model!\n",
            "\u001b[1m925/925\u001b[0m \u001b[32m━━━━━━━━━━━━━━━━━━━━\u001b[0m\u001b[37m\u001b[0m \u001b[1m44s\u001b[0m 40ms/step - loss: 2.5423\n",
            "Epoch 2/20\n",
            "\u001b[1m925/925\u001b[0m \u001b[32m━━━━━━━━━━━━━━━━━━━━\u001b[0m\u001b[37m\u001b[0m \u001b[1m0s\u001b[0m 14ms/step - loss: 2.0750srnn.keras\n",
            "\n",
            " mean perplexity: 7.378323554992676 \n",
            "\n",
            "Saved new model!\n",
            "\u001b[1m925/925\u001b[0m \u001b[32m━━━━━━━━━━━━━━━━━━━━\u001b[0m\u001b[37m\u001b[0m \u001b[1m21s\u001b[0m 21ms/step - loss: 2.0749\n",
            "Epoch 3/20\n",
            "\u001b[1m925/925\u001b[0m \u001b[32m━━━━━━━━━━━━━━━━━━━━\u001b[0m\u001b[37m\u001b[0m \u001b[1m0s\u001b[0m 14ms/step - loss: 1.9580srnn.keras\n",
            "\n",
            " mean perplexity: 6.933388296884435 \n",
            "\n",
            "Saved new model!\n",
            "\u001b[1m925/925\u001b[0m \u001b[32m━━━━━━━━━━━━━━━━━━━━\u001b[0m\u001b[37m\u001b[0m \u001b[1m25s\u001b[0m 26ms/step - loss: 1.9579\n",
            "Epoch 4/20\n",
            "\u001b[1m925/925\u001b[0m \u001b[32m━━━━━━━━━━━━━━━━━━━━\u001b[0m\u001b[37m\u001b[0m \u001b[1m0s\u001b[0m 14ms/step - loss: 1.8954srnn.keras\n",
            "\n",
            " mean perplexity: 6.865189506352403 \n",
            "\n",
            "Saved new model!\n",
            "\u001b[1m925/925\u001b[0m \u001b[32m━━━━━━━━━━━━━━━━━━━━\u001b[0m\u001b[37m\u001b[0m \u001b[1m19s\u001b[0m 20ms/step - loss: 1.8954\n",
            "Epoch 5/20\n",
            "\u001b[1m925/925\u001b[0m \u001b[32m━━━━━━━━━━━━━━━━━━━━\u001b[0m\u001b[37m\u001b[0m \u001b[1m0s\u001b[0m 14ms/step - loss: 1.8576srnn.keras\n",
            "\n",
            " mean perplexity: 6.642576873757457 \n",
            "\n",
            "Saved new model!\n",
            "\u001b[1m925/925\u001b[0m \u001b[32m━━━━━━━━━━━━━━━━━━━━\u001b[0m\u001b[37m\u001b[0m \u001b[1m20s\u001b[0m 20ms/step - loss: 1.8576\n",
            "Epoch 6/20\n",
            "\u001b[1m924/925\u001b[0m \u001b[32m━━━━━━━━━━━━━━━━━━━\u001b[0m\u001b[37m━\u001b[0m \u001b[1m0s\u001b[0m 14ms/step - loss: 1.8324srnn.keras\n",
            "\n",
            " mean perplexity: 6.515368888396343 \n",
            "\n",
            "Saved new model!\n",
            "\u001b[1m925/925\u001b[0m \u001b[32m━━━━━━━━━━━━━━━━━━━━\u001b[0m\u001b[37m\u001b[0m \u001b[1m24s\u001b[0m 25ms/step - loss: 1.8324\n",
            "Epoch 7/20\n",
            "\u001b[1m922/925\u001b[0m \u001b[32m━━━━━━━━━━━━━━━━━━━\u001b[0m\u001b[37m━\u001b[0m \u001b[1m0s\u001b[0m 14ms/step - loss: 1.8143srnn.keras\n",
            "\n",
            " mean perplexity: 6.512457986824385 \n",
            "\n",
            "Saved new model!\n",
            "\u001b[1m925/925\u001b[0m \u001b[32m━━━━━━━━━━━━━━━━━━━━\u001b[0m\u001b[37m\u001b[0m \u001b[1m24s\u001b[0m 26ms/step - loss: 1.8143\n",
            "Epoch 8/20\n",
            "\u001b[1m924/925\u001b[0m \u001b[32m━━━━━━━━━━━━━━━━━━━\u001b[0m\u001b[37m━\u001b[0m \u001b[1m0s\u001b[0m 15ms/step - loss: 1.8007srnn.keras\n",
            "\n",
            " mean perplexity: 6.450381841368348 \n",
            "\n",
            "Saved new model!\n",
            "\u001b[1m925/925\u001b[0m \u001b[32m━━━━━━━━━━━━━━━━━━━━\u001b[0m\u001b[37m\u001b[0m \u001b[1m36s\u001b[0m 20ms/step - loss: 1.8007\n",
            "Epoch 9/20\n",
            "\u001b[1m925/925\u001b[0m \u001b[32m━━━━━━━━━━━━━━━━━━━━\u001b[0m\u001b[37m\u001b[0m \u001b[1m0s\u001b[0m 14ms/step - loss: 1.7882srnn.keras\n",
            "\n",
            " mean perplexity: 6.474379559964624 \n",
            "\n",
            "\u001b[1m925/925\u001b[0m \u001b[32m━━━━━━━━━━━━━━━━━━━━\u001b[0m\u001b[37m\u001b[0m \u001b[1m19s\u001b[0m 20ms/step - loss: 1.7882\n",
            "Epoch 10/20\n",
            "\u001b[1m925/925\u001b[0m \u001b[32m━━━━━━━━━━━━━━━━━━━━\u001b[0m\u001b[37m\u001b[0m \u001b[1m0s\u001b[0m 15ms/step - loss: 1.7803srnn.keras\n",
            "\n",
            " mean perplexity: 6.340836885776229 \n",
            "\n",
            "Saved new model!\n",
            "\u001b[1m925/925\u001b[0m \u001b[32m━━━━━━━━━━━━━━━━━━━━\u001b[0m\u001b[37m\u001b[0m \u001b[1m19s\u001b[0m 20ms/step - loss: 1.7803\n",
            "Epoch 11/20\n",
            "\u001b[1m924/925\u001b[0m \u001b[32m━━━━━━━━━━━━━━━━━━━\u001b[0m\u001b[37m━\u001b[0m \u001b[1m0s\u001b[0m 15ms/step - loss: 1.7730srnn.keras\n",
            "\n",
            " mean perplexity: 6.302483777508481 \n",
            "\n",
            "Saved new model!\n",
            "\u001b[1m925/925\u001b[0m \u001b[32m━━━━━━━━━━━━━━━━━━━━\u001b[0m\u001b[37m\u001b[0m \u001b[1m21s\u001b[0m 20ms/step - loss: 1.7730\n",
            "Epoch 12/20\n",
            "\u001b[1m923/925\u001b[0m \u001b[32m━━━━━━━━━━━━━━━━━━━\u001b[0m\u001b[37m━\u001b[0m \u001b[1m0s\u001b[0m 15ms/step - loss: 1.7649srnn.keras\n",
            "\n",
            " mean perplexity: 6.327579771744386 \n",
            "\n",
            "\u001b[1m925/925\u001b[0m \u001b[32m━━━━━━━━━━━━━━━━━━━━\u001b[0m\u001b[37m\u001b[0m \u001b[1m21s\u001b[0m 21ms/step - loss: 1.7649\n",
            "Epoch 13/20\n",
            "\u001b[1m925/925\u001b[0m \u001b[32m━━━━━━━━━━━━━━━━━━━━\u001b[0m\u001b[37m\u001b[0m \u001b[1m0s\u001b[0m 14ms/step - loss: 1.7599srnn.keras\n",
            "\n",
            " mean perplexity: 6.274072109287932 \n",
            "\n",
            "Saved new model!\n",
            "\u001b[1m925/925\u001b[0m \u001b[32m━━━━━━━━━━━━━━━━━━━━\u001b[0m\u001b[37m\u001b[0m \u001b[1m19s\u001b[0m 20ms/step - loss: 1.7599\n",
            "Epoch 14/20\n",
            "\u001b[1m925/925\u001b[0m \u001b[32m━━━━━━━━━━━━━━━━━━━━\u001b[0m\u001b[37m\u001b[0m \u001b[1m0s\u001b[0m 15ms/step - loss: 1.7556srnn.keras\n",
            "\n",
            " mean perplexity: 6.358556576357543 \n",
            "\n",
            "\u001b[1m925/925\u001b[0m \u001b[32m━━━━━━━━━━━━━━━━━━━━\u001b[0m\u001b[37m\u001b[0m \u001b[1m21s\u001b[0m 20ms/step - loss: 1.7556\n",
            "Epoch 15/20\n",
            "\u001b[1m925/925\u001b[0m \u001b[32m━━━━━━━━━━━━━━━━━━━━\u001b[0m\u001b[37m\u001b[0m \u001b[1m0s\u001b[0m 15ms/step - loss: 1.7500srnn.keras\n",
            "\n",
            " mean perplexity: 6.293218727330215 \n",
            "\n",
            "\u001b[1m925/925\u001b[0m \u001b[32m━━━━━━━━━━━━━━━━━━━━\u001b[0m\u001b[37m\u001b[0m \u001b[1m19s\u001b[0m 20ms/step - loss: 1.7500\n",
            "Epoch 16/20\n",
            "\u001b[1m924/925\u001b[0m \u001b[32m━━━━━━━━━━━━━━━━━━━\u001b[0m\u001b[37m━\u001b[0m \u001b[1m0s\u001b[0m 15ms/step - loss: 1.7474srnn.keras\n",
            "\n",
            " mean perplexity: 6.283082726802535 \n",
            "\n",
            "\u001b[1m925/925\u001b[0m \u001b[32m━━━━━━━━━━━━━━━━━━━━\u001b[0m\u001b[37m\u001b[0m \u001b[1m19s\u001b[0m 20ms/step - loss: 1.7474\n",
            "Epoch 17/20\n",
            "\u001b[1m925/925\u001b[0m \u001b[32m━━━━━━━━━━━━━━━━━━━━\u001b[0m\u001b[37m\u001b[0m \u001b[1m0s\u001b[0m 15ms/step - loss: 1.7426srnn.keras\n",
            "\n",
            " mean perplexity: 6.291513538542595 \n",
            "\n",
            "\u001b[1m925/925\u001b[0m \u001b[32m━━━━━━━━━━━━━━━━━━━━\u001b[0m\u001b[37m\u001b[0m \u001b[1m19s\u001b[0m 20ms/step - loss: 1.7426\n",
            "Epoch 18/20\n",
            "\u001b[1m922/925\u001b[0m \u001b[32m━━━━━━━━━━━━━━━━━━━\u001b[0m\u001b[37m━\u001b[0m \u001b[1m0s\u001b[0m 15ms/step - loss: 1.7396srnn.keras\n",
            "\n",
            " mean perplexity: 6.215693503845739 \n",
            "\n",
            "Saved new model!\n",
            "\u001b[1m925/925\u001b[0m \u001b[32m━━━━━━━━━━━━━━━━━━━━\u001b[0m\u001b[37m\u001b[0m \u001b[1m21s\u001b[0m 21ms/step - loss: 1.7396\n",
            "Epoch 19/20\n",
            "\u001b[1m924/925\u001b[0m \u001b[32m━━━━━━━━━━━━━━━━━━━\u001b[0m\u001b[37m━\u001b[0m \u001b[1m0s\u001b[0m 15ms/step - loss: 1.7367srnn.keras\n",
            "\n",
            " mean perplexity: 6.233448856204521 \n",
            "\n",
            "\u001b[1m925/925\u001b[0m \u001b[32m━━━━━━━━━━━━━━━━━━━━\u001b[0m\u001b[37m\u001b[0m \u001b[1m20s\u001b[0m 20ms/step - loss: 1.7367\n",
            "Epoch 20/20\n",
            "\u001b[1m923/925\u001b[0m \u001b[32m━━━━━━━━━━━━━━━━━━━\u001b[0m\u001b[37m━\u001b[0m \u001b[1m0s\u001b[0m 15ms/step - loss: 1.7346srnn.keras\n",
            "\n",
            " mean perplexity: 6.145303616541942 \n",
            "\n",
            "Saved new model!\n",
            "\u001b[1m925/925\u001b[0m \u001b[32m━━━━━━━━━━━━━━━━━━━━\u001b[0m\u001b[37m\u001b[0m \u001b[1m19s\u001b[0m 20ms/step - loss: 1.7346\n"
          ]
        }
      ],
      "source": [
        "# fiteamos, nótese el agregado del callback con su inicialización. El batch_size lo podemos seleccionar a mano\n",
        "# en general, lo mejor es escoger el batch más grande posible que minimice el tiempo de cada época.\n",
        "# En la variable `history_ppl` se guardarán los valores de perplejidad para cada época.\n",
        "history_ppl = []\n",
        "hist = model.fit(X, y, epochs=20, callbacks=[PplCallback(tokenized_sentences_val,history_ppl,5, name_model=\"srnn.keras\")], batch_size=256)"
      ]
    },
    {
      "cell_type": "code",
      "execution_count": null,
      "metadata": {
        "colab": {
          "base_uri": "https://localhost:8080/",
          "height": 430
        },
        "id": "K30JHB3Dv-mx",
        "outputId": "b9f9dc2e-e97e-4ec1-cad8-47c672eb490c"
      },
      "outputs": [],
      "source": [
        "import matplotlib.pyplot as plt\n",
        "import seaborn as sns\n",
        "\n",
        "# Entrenamiento\n",
        "epoch_count = range(1, len(history_ppl) + 1)\n",
        "sns.lineplot(x=epoch_count,  y=history_ppl)\n",
        "\n",
        "\n",
        "plt.show()"
      ]
    },
    {
      "attachments": {
        "image.png": {
          "image/png": "[encoded data removed]"
        }
      },
      "cell_type": "markdown",
      "metadata": {},
      "source": [
        "Resultados:\n",
        "- Épocas: 20\n",
        "- Perplexity final media: 6.14\n",
        "\n",
        "_Nota: el siguiente gráfico se obtuvo de un entrenamiento previo del modelo que no se muestra en los logs por falta de recursos de GPU de colab_\n",
        "\n",
        "\n",
        "Se observa una mejora en el modelo a medida que aumentan las épocas. En la época 5 se observa un cambio de desaceleración de mejora en la \"Perplexity\", y se alcanza un valor asíntotico de 6 en las épocas finales.\n",
        "\n",
        "![image.png](attachment:image.png)\n",
        "\n"
      ]
    },
    {
      "cell_type": "code",
      "execution_count": 28,
      "metadata": {
        "id": "Rhy5hZN38qfO"
      },
      "outputs": [],
      "source": [
        "# Cargamos el mejor modelo guardado del entrenamiento para hacer inferencia\n",
        "model_srnn = keras.models.load_model('srnn.keras')"
      ]
    },
    {
      "cell_type": "markdown",
      "metadata": {},
      "source": [
        "## GRU\n",
        "\n",
        "Este modelo se presenta como una evolución del modelo básico recurrente (SRNN) para el problema de \"Long Short Term Memory\", pero sin la misma perfomance que las redes LSTM, aunque sí, más sencillas y baratas."
      ]
    },
    {
      "cell_type": "code",
      "execution_count": 29,
      "metadata": {
        "colab": {
          "base_uri": "https://localhost:8080/",
          "height": 333
        },
        "collapsed": true,
        "id": "cDhdcSb5WxM2",
        "outputId": "36c4a95c-a871-44a2-e005-0bb02128d001"
      },
      "outputs": [
        {
          "data": {
            "text/html": [
              "<pre style=\"white-space:pre;overflow-x:auto;line-height:normal;font-family:Menlo,'DejaVu Sans Mono',consolas,'Courier New',monospace\"><span style=\"font-weight: bold\">Model: \"sequential_1\"</span>\n",
              "</pre>\n"
            ],
            "text/plain": [
              "\u001b[1mModel: \"sequential_1\"\u001b[0m\n"
            ]
          },
          "metadata": {},
          "output_type": "display_data"
        },
        {
          "data": {
            "text/html": [
              "<pre style=\"white-space:pre;overflow-x:auto;line-height:normal;font-family:Menlo,'DejaVu Sans Mono',consolas,'Courier New',monospace\">┏━━━━━━━━━━━━━━━━━━━━━━━━━━━━━━━━━┳━━━━━━━━━━━━━━━━━━━━━━━━┳━━━━━━━━━━━━━━━┓\n",
              "┃<span style=\"font-weight: bold\"> Layer (type)                    </span>┃<span style=\"font-weight: bold\"> Output Shape           </span>┃<span style=\"font-weight: bold\">       Param # </span>┃\n",
              "┡━━━━━━━━━━━━━━━━━━━━━━━━━━━━━━━━━╇━━━━━━━━━━━━━━━━━━━━━━━━╇━━━━━━━━━━━━━━━┩\n",
              "│ time_distributed_1              │ (<span style=\"color: #00d7ff; text-decoration-color: #00d7ff\">None</span>, <span style=\"color: #00d7ff; text-decoration-color: #00d7ff\">None</span>, <span style=\"color: #00af00; text-decoration-color: #00af00\">68</span>)       │             <span style=\"color: #00af00; text-decoration-color: #00af00\">0</span> │\n",
              "│ (<span style=\"color: #0087ff; text-decoration-color: #0087ff\">TimeDistributed</span>)               │                        │               │\n",
              "├─────────────────────────────────┼────────────────────────┼───────────────┤\n",
              "│ gru (<span style=\"color: #0087ff; text-decoration-color: #0087ff\">GRU</span>)                       │ (<span style=\"color: #00d7ff; text-decoration-color: #00d7ff\">None</span>, <span style=\"color: #00d7ff; text-decoration-color: #00d7ff\">None</span>, <span style=\"color: #00af00; text-decoration-color: #00af00\">200</span>)      │       <span style=\"color: #00af00; text-decoration-color: #00af00\">162,000</span> │\n",
              "├─────────────────────────────────┼────────────────────────┼───────────────┤\n",
              "│ dense_1 (<span style=\"color: #0087ff; text-decoration-color: #0087ff\">Dense</span>)                 │ (<span style=\"color: #00d7ff; text-decoration-color: #00d7ff\">None</span>, <span style=\"color: #00d7ff; text-decoration-color: #00d7ff\">None</span>, <span style=\"color: #00af00; text-decoration-color: #00af00\">68</span>)       │        <span style=\"color: #00af00; text-decoration-color: #00af00\">13,668</span> │\n",
              "└─────────────────────────────────┴────────────────────────┴───────────────┘\n",
              "</pre>\n"
            ],
            "text/plain": [
              "┏━━━━━━━━━━━━━━━━━━━━━━━━━━━━━━━━━┳━━━━━━━━━━━━━━━━━━━━━━━━┳━━━━━━━━━━━━━━━┓\n",
              "┃\u001b[1m \u001b[0m\u001b[1mLayer (type)                   \u001b[0m\u001b[1m \u001b[0m┃\u001b[1m \u001b[0m\u001b[1mOutput Shape          \u001b[0m\u001b[1m \u001b[0m┃\u001b[1m \u001b[0m\u001b[1m      Param #\u001b[0m\u001b[1m \u001b[0m┃\n",
              "┡━━━━━━━━━━━━━━━━━━━━━━━━━━━━━━━━━╇━━━━━━━━━━━━━━━━━━━━━━━━╇━━━━━━━━━━━━━━━┩\n",
              "│ time_distributed_1              │ (\u001b[38;5;45mNone\u001b[0m, \u001b[38;5;45mNone\u001b[0m, \u001b[38;5;34m68\u001b[0m)       │             \u001b[38;5;34m0\u001b[0m │\n",
              "│ (\u001b[38;5;33mTimeDistributed\u001b[0m)               │                        │               │\n",
              "├─────────────────────────────────┼────────────────────────┼───────────────┤\n",
              "│ gru (\u001b[38;5;33mGRU\u001b[0m)                       │ (\u001b[38;5;45mNone\u001b[0m, \u001b[38;5;45mNone\u001b[0m, \u001b[38;5;34m200\u001b[0m)      │       \u001b[38;5;34m162,000\u001b[0m │\n",
              "├─────────────────────────────────┼────────────────────────┼───────────────┤\n",
              "│ dense_1 (\u001b[38;5;33mDense\u001b[0m)                 │ (\u001b[38;5;45mNone\u001b[0m, \u001b[38;5;45mNone\u001b[0m, \u001b[38;5;34m68\u001b[0m)       │        \u001b[38;5;34m13,668\u001b[0m │\n",
              "└─────────────────────────────────┴────────────────────────┴───────────────┘\n"
            ]
          },
          "metadata": {},
          "output_type": "display_data"
        },
        {
          "data": {
            "text/html": [
              "<pre style=\"white-space:pre;overflow-x:auto;line-height:normal;font-family:Menlo,'DejaVu Sans Mono',consolas,'Courier New',monospace\"><span style=\"font-weight: bold\"> Total params: </span><span style=\"color: #00af00; text-decoration-color: #00af00\">175,668</span> (686.20 KB)\n",
              "</pre>\n"
            ],
            "text/plain": [
              "\u001b[1m Total params: \u001b[0m\u001b[38;5;34m175,668\u001b[0m (686.20 KB)\n"
            ]
          },
          "metadata": {},
          "output_type": "display_data"
        },
        {
          "data": {
            "text/html": [
              "<pre style=\"white-space:pre;overflow-x:auto;line-height:normal;font-family:Menlo,'DejaVu Sans Mono',consolas,'Courier New',monospace\"><span style=\"font-weight: bold\"> Trainable params: </span><span style=\"color: #00af00; text-decoration-color: #00af00\">175,668</span> (686.20 KB)\n",
              "</pre>\n"
            ],
            "text/plain": [
              "\u001b[1m Trainable params: \u001b[0m\u001b[38;5;34m175,668\u001b[0m (686.20 KB)\n"
            ]
          },
          "metadata": {},
          "output_type": "display_data"
        },
        {
          "data": {
            "text/html": [
              "<pre style=\"white-space:pre;overflow-x:auto;line-height:normal;font-family:Menlo,'DejaVu Sans Mono',consolas,'Courier New',monospace\"><span style=\"font-weight: bold\"> Non-trainable params: </span><span style=\"color: #00af00; text-decoration-color: #00af00\">0</span> (0.00 B)\n",
              "</pre>\n"
            ],
            "text/plain": [
              "\u001b[1m Non-trainable params: \u001b[0m\u001b[38;5;34m0\u001b[0m (0.00 B)\n"
            ]
          },
          "metadata": {},
          "output_type": "display_data"
        }
      ],
      "source": [
        "from keras.layers import GRU\n",
        "\n",
        "model_gru = Sequential()\n",
        "\n",
        "model_gru.add(TimeDistributed(CategoryEncoding(num_tokens=vocab_size, output_mode = \"one_hot\"),input_shape=(None,1)))\n",
        "model_gru.add(GRU(200, return_sequences=True, dropout=0.1, recurrent_dropout=0.1 ))\n",
        "model_gru.add(Dense(vocab_size, activation='softmax'))\n",
        "model_gru.compile(loss='sparse_categorical_crossentropy', optimizer='rmsprop')\n",
        "\n",
        "model_gru.summary()"
      ]
    },
    {
      "cell_type": "code",
      "execution_count": null,
      "metadata": {
        "colab": {
          "base_uri": "https://localhost:8080/"
        },
        "id": "zOtqXXHEYIuK",
        "outputId": "21bda966-efff-49ee-d461-3bfa1a9aa8e9"
      },
      "outputs": [
        {
          "name": "stdout",
          "output_type": "stream",
          "text": [
            "Epoch 1/20\n",
            "\u001b[1m925/925\u001b[0m \u001b[32m━━━━━━━━━━━━━━━━━━━━\u001b[0m\u001b[37m\u001b[0m \u001b[1m0s\u001b[0m 265ms/step - loss: 2.6177gru.keras\n",
            "\n",
            " mean perplexity: 8.599032279644304 \n",
            "\n",
            "Saved new model!\n",
            "\u001b[1m925/925\u001b[0m \u001b[32m━━━━━━━━━━━━━━━━━━━━\u001b[0m\u001b[37m\u001b[0m \u001b[1m336s\u001b[0m 354ms/step - loss: 2.6175\n",
            "Epoch 2/20\n",
            "\u001b[1m925/925\u001b[0m \u001b[32m━━━━━━━━━━━━━━━━━━━━\u001b[0m\u001b[37m\u001b[0m \u001b[1m0s\u001b[0m 265ms/step - loss: 2.0566gru.keras\n",
            "\n",
            " mean perplexity: 7.501024678918242 \n",
            "\n",
            "Saved new model!\n",
            "\u001b[1m925/925\u001b[0m \u001b[32m━━━━━━━━━━━━━━━━━━━━\u001b[0m\u001b[37m\u001b[0m \u001b[1m380s\u001b[0m 354ms/step - loss: 2.0566\n",
            "Epoch 3/20\n",
            "\u001b[1m925/925\u001b[0m \u001b[32m━━━━━━━━━━━━━━━━━━━━\u001b[0m\u001b[37m\u001b[0m \u001b[1m0s\u001b[0m 263ms/step - loss: 1.8958gru.keras\n",
            "\n",
            " mean perplexity: 6.87974998832659 \n",
            "\n",
            "Saved new model!\n",
            "\u001b[1m925/925\u001b[0m \u001b[32m━━━━━━━━━━━━━━━━━━━━\u001b[0m\u001b[37m\u001b[0m \u001b[1m381s\u001b[0m 352ms/step - loss: 1.8958\n",
            "Epoch 4/20\n",
            "\u001b[1m925/925\u001b[0m \u001b[32m━━━━━━━━━━━━━━━━━━━━\u001b[0m\u001b[37m\u001b[0m \u001b[1m0s\u001b[0m 263ms/step - loss: 1.7816gru.keras\n",
            "\n",
            " mean perplexity: 6.499714834999492 \n",
            "\n",
            "Saved new model!\n",
            "\u001b[1m925/925\u001b[0m \u001b[32m━━━━━━━━━━━━━━━━━━━━\u001b[0m\u001b[37m\u001b[0m \u001b[1m366s\u001b[0m 335ms/step - loss: 1.7815\n",
            "Epoch 5/20\n",
            "\u001b[1m925/925\u001b[0m \u001b[32m━━━━━━━━━━━━━━━━━━━━\u001b[0m\u001b[37m\u001b[0m \u001b[1m0s\u001b[0m 262ms/step - loss: 1.7027gru.keras\n",
            "\n",
            " mean perplexity: 6.37394799894959 \n",
            "\n",
            "Saved new model!\n",
            "\u001b[1m925/925\u001b[0m \u001b[32m━━━━━━━━━━━━━━━━━━━━\u001b[0m\u001b[37m\u001b[0m \u001b[1m309s\u001b[0m 334ms/step - loss: 1.7027\n",
            "Epoch 6/20\n",
            "\u001b[1m925/925\u001b[0m \u001b[32m━━━━━━━━━━━━━━━━━━━━\u001b[0m\u001b[37m\u001b[0m \u001b[1m0s\u001b[0m 262ms/step - loss: 1.6465gru.keras\n",
            "\n",
            " mean perplexity: 6.198693280001633 \n",
            "\n",
            "Saved new model!\n",
            "\u001b[1m925/925\u001b[0m \u001b[32m━━━━━━━━━━━━━━━━━━━━\u001b[0m\u001b[37m\u001b[0m \u001b[1m321s\u001b[0m 333ms/step - loss: 1.6464\n",
            "Epoch 7/20\n",
            "\u001b[1m925/925\u001b[0m \u001b[32m━━━━━━━━━━━━━━━━━━━━\u001b[0m\u001b[37m\u001b[0m \u001b[1m0s\u001b[0m 264ms/step - loss: 1.6044gru.keras\n",
            "\n",
            " mean perplexity: 6.117613453901451 \n",
            "\n",
            "Saved new model!\n",
            "\u001b[1m925/925\u001b[0m \u001b[32m━━━━━━━━━━━━━━━━━━━━\u001b[0m\u001b[37m\u001b[0m \u001b[1m309s\u001b[0m 335ms/step - loss: 1.6044\n",
            "Epoch 8/20\n",
            "\u001b[1m925/925\u001b[0m \u001b[32m━━━━━━━━━━━━━━━━━━━━\u001b[0m\u001b[37m\u001b[0m \u001b[1m0s\u001b[0m 262ms/step - loss: 1.5720gru.keras\n",
            "\n",
            " mean perplexity: 6.183587798635468 \n",
            "\n",
            "\u001b[1m925/925\u001b[0m \u001b[32m━━━━━━━━━━━━━━━━━━━━\u001b[0m\u001b[37m\u001b[0m \u001b[1m320s\u001b[0m 333ms/step - loss: 1.5720\n",
            "Epoch 9/20\n",
            "\u001b[1m925/925\u001b[0m \u001b[32m━━━━━━━━━━━━━━━━━━━━\u001b[0m\u001b[37m\u001b[0m \u001b[1m0s\u001b[0m 260ms/step - loss: 1.5459gru.keras\n",
            "\n",
            " mean perplexity: 6.066774421065818 \n",
            "\n",
            "Saved new model!\n",
            "\u001b[1m925/925\u001b[0m \u001b[32m━━━━━━━━━━━━━━━━━━━━\u001b[0m\u001b[37m\u001b[0m \u001b[1m323s\u001b[0m 349ms/step - loss: 1.5459\n",
            "Epoch 10/20\n",
            "\u001b[1m925/925\u001b[0m \u001b[32m━━━━━━━━━━━━━━━━━━━━\u001b[0m\u001b[37m\u001b[0m \u001b[1m0s\u001b[0m 261ms/step - loss: 1.5246gru.keras\n",
            "\n",
            " mean perplexity: 6.0079903452451 \n",
            "\n",
            "Saved new model!\n",
            "\u001b[1m925/925\u001b[0m \u001b[32m━━━━━━━━━━━━━━━━━━━━\u001b[0m\u001b[37m\u001b[0m \u001b[1m383s\u001b[0m 350ms/step - loss: 1.5246\n",
            "Epoch 11/20\n",
            "\u001b[1m925/925\u001b[0m \u001b[32m━━━━━━━━━━━━━━━━━━━━\u001b[0m\u001b[37m\u001b[0m \u001b[1m0s\u001b[0m 270ms/step - loss: 1.5059gru.keras\n",
            "\n",
            " mean perplexity: 6.019995794496463 \n",
            "\n",
            "\u001b[1m925/925\u001b[0m \u001b[32m━━━━━━━━━━━━━━━━━━━━\u001b[0m\u001b[37m\u001b[0m \u001b[1m375s\u001b[0m 342ms/step - loss: 1.5059\n",
            "Epoch 12/20\n",
            "\u001b[1m925/925\u001b[0m \u001b[32m━━━━━━━━━━━━━━━━━━━━\u001b[0m\u001b[37m\u001b[0m \u001b[1m0s\u001b[0m 261ms/step - loss: 1.4918gru.keras\n",
            "\n",
            " mean perplexity: 5.975856031625326 \n",
            "\n",
            "Saved new model!\n",
            "\u001b[1m925/925\u001b[0m \u001b[32m━━━━━━━━━━━━━━━━━━━━\u001b[0m\u001b[37m\u001b[0m \u001b[1m313s\u001b[0m 332ms/step - loss: 1.4918\n",
            "Epoch 13/20\n",
            "\u001b[1m925/925\u001b[0m \u001b[32m━━━━━━━━━━━━━━━━━━━━\u001b[0m\u001b[37m\u001b[0m \u001b[1m0s\u001b[0m 259ms/step - loss: 1.4784gru.keras\n",
            "\n",
            " mean perplexity: 6.01545962714057 \n",
            "\n",
            "\u001b[1m925/925\u001b[0m \u001b[32m━━━━━━━━━━━━━━━━━━━━\u001b[0m\u001b[37m\u001b[0m \u001b[1m321s\u001b[0m 330ms/step - loss: 1.4784\n",
            "Epoch 14/20\n",
            "\u001b[1m925/925\u001b[0m \u001b[32m━━━━━━━━━━━━━━━━━━━━\u001b[0m\u001b[37m\u001b[0m \u001b[1m0s\u001b[0m 260ms/step - loss: 1.4672gru.keras\n",
            "\n",
            " mean perplexity: 5.9532086958412 \n",
            "\n",
            "Saved new model!\n",
            "\u001b[1m925/925\u001b[0m \u001b[32m━━━━━━━━━━━━━━━━━━━━\u001b[0m\u001b[37m\u001b[0m \u001b[1m321s\u001b[0m 330ms/step - loss: 1.4671\n",
            "Epoch 15/20\n",
            "\u001b[1m925/925\u001b[0m \u001b[32m━━━━━━━━━━━━━━━━━━━━\u001b[0m\u001b[37m\u001b[0m \u001b[1m0s\u001b[0m 261ms/step - loss: 1.4571gru.keras\n",
            "\n",
            " mean perplexity: 5.956815078058316 \n",
            "\n",
            "\u001b[1m925/925\u001b[0m \u001b[32m━━━━━━━━━━━━━━━━━━━━\u001b[0m\u001b[37m\u001b[0m \u001b[1m323s\u001b[0m 331ms/step - loss: 1.4571\n",
            "Epoch 16/20\n",
            "\u001b[1m925/925\u001b[0m \u001b[32m━━━━━━━━━━━━━━━━━━━━\u001b[0m\u001b[37m\u001b[0m \u001b[1m0s\u001b[0m 260ms/step - loss: 1.4479gru.keras\n",
            "\n",
            " mean perplexity: 5.938820927197696 \n",
            "\n",
            "Saved new model!\n",
            "\u001b[1m925/925\u001b[0m \u001b[32m━━━━━━━━━━━━━━━━━━━━\u001b[0m\u001b[37m\u001b[0m \u001b[1m338s\u001b[0m 349ms/step - loss: 1.4479\n",
            "Epoch 17/20\n",
            "\u001b[1m925/925\u001b[0m \u001b[32m━━━━━━━━━━━━━━━━━━━━\u001b[0m\u001b[37m\u001b[0m \u001b[1m0s\u001b[0m 261ms/step - loss: 1.4399gru.keras\n",
            "\n",
            " mean perplexity: 6.013728716446243 \n",
            "\n",
            "\u001b[1m925/925\u001b[0m \u001b[32m━━━━━━━━━━━━━━━━━━━━\u001b[0m\u001b[37m\u001b[0m \u001b[1m365s\u001b[0m 331ms/step - loss: 1.4399\n",
            "Epoch 18/20\n",
            "\u001b[1m925/925\u001b[0m \u001b[32m━━━━━━━━━━━━━━━━━━━━\u001b[0m\u001b[37m\u001b[0m \u001b[1m0s\u001b[0m 262ms/step - loss: 1.4335gru.keras\n",
            "\n",
            " mean perplexity: 5.949623551077515 \n",
            "\n",
            "\u001b[1m925/925\u001b[0m \u001b[32m━━━━━━━━━━━━━━━━━━━━\u001b[0m\u001b[37m\u001b[0m \u001b[1m324s\u001b[0m 350ms/step - loss: 1.4335\n",
            "Epoch 19/20\n",
            "\u001b[1m925/925\u001b[0m \u001b[32m━━━━━━━━━━━━━━━━━━━━\u001b[0m\u001b[37m\u001b[0m \u001b[1m0s\u001b[0m 263ms/step - loss: 1.4266gru.keras\n",
            "\n",
            " mean perplexity: 6.000128871611967 \n",
            "\n",
            "\u001b[1m925/925\u001b[0m \u001b[32m━━━━━━━━━━━━━━━━━━━━\u001b[0m\u001b[37m\u001b[0m \u001b[1m368s\u001b[0m 335ms/step - loss: 1.4266\n",
            "Epoch 20/20\n",
            "\u001b[1m925/925\u001b[0m \u001b[32m━━━━━━━━━━━━━━━━━━━━\u001b[0m\u001b[37m\u001b[0m \u001b[1m0s\u001b[0m 263ms/step - loss: 1.4207gru.keras\n",
            "\n",
            " mean perplexity: 5.995490247966679 \n",
            "\n",
            "\u001b[1m925/925\u001b[0m \u001b[32m━━━━━━━━━━━━━━━━━━━━\u001b[0m\u001b[37m\u001b[0m \u001b[1m320s\u001b[0m 333ms/step - loss: 1.4207\n"
          ]
        }
      ],
      "source": [
        "history_ppl = []\n",
        "hist = model_gru.fit(X, y, epochs=20, callbacks=[PplCallback(tokenized_sentences_val,history_ppl,5, name_model=\"gru.keras\")], batch_size=256)"
      ]
    },
    {
      "cell_type": "code",
      "execution_count": null,
      "metadata": {
        "colab": {
          "base_uri": "https://localhost:8080/",
          "height": 430
        },
        "id": "gzYsFfU1YTZP",
        "outputId": "2873d4af-f280-4b14-aca3-1f6a20cda60d"
      },
      "outputs": [],
      "source": [
        "import matplotlib.pyplot as plt\n",
        "import seaborn as sns\n",
        "\n",
        "# Entrenamiento\n",
        "epoch_count = range(1, len(history_ppl) + 1)\n",
        "sns.lineplot(x=epoch_count,  y=history_ppl)"
      ]
    },
    {
      "attachments": {
        "image.png": {
          "image/png": "[encoded data removed]"
        }
      },
      "cell_type": "markdown",
      "metadata": {},
      "source": [
        "Resultados:\n",
        "- Épocas: 20\n",
        "- Perplexity final media: 5.99\n",
        "\n",
        "_Nota: el siguiente gráfico se obtuvo de un entrenamiento previo del modelo que no se muestra en los logs por falta de recursos de GPU de colab_\n",
        "\n",
        "\n",
        "Al igual que en el SRNN, se observa una mejora en el modelo a medida que aumentan las épocas. En la época 5 se observa un cambio de desaceleración de mejora en la \"Perplexity\", y se alcanza un valor asíntotico de 6 en las épocas finales.\n",
        "\n",
        "![image.png](attachment:image.png)"
      ]
    },
    {
      "cell_type": "code",
      "execution_count": null,
      "metadata": {},
      "outputs": [],
      "source": [
        "# Cargamos el mejor modelo guardado del entrenamiento para hacer inferencia\n",
        "model_gru = keras.models.load_model('gru.keras')"
      ]
    },
    {
      "cell_type": "markdown",
      "metadata": {},
      "source": [
        "## LSTM (Long Short Term Memory)\n",
        "\n",
        "Este modelo presenta una solución forma al problema de \"gradiente evanescente\" propia de las RNN, en el cual se incorpora un estado de memoria de largo plazo y celdas que ponderan los términos más relevantes por medio de una entrada y salida propia de un catálogo de términos (C)."
      ]
    },
    {
      "cell_type": "code",
      "execution_count": null,
      "metadata": {
        "colab": {
          "base_uri": "https://localhost:8080/",
          "height": 261
        },
        "id": "-sIlkYWKXU_w",
        "outputId": "86807ab7-39cc-4f5e-b54f-61504983b16a"
      },
      "outputs": [
        {
          "data": {
            "text/html": [
              "<pre style=\"white-space:pre;overflow-x:auto;line-height:normal;font-family:Menlo,'DejaVu Sans Mono',consolas,'Courier New',monospace\"><span style=\"font-weight: bold\">Model: \"sequential_2\"</span>\n",
              "</pre>\n"
            ],
            "text/plain": [
              "\u001b[1mModel: \"sequential_2\"\u001b[0m\n"
            ]
          },
          "metadata": {},
          "output_type": "display_data"
        },
        {
          "data": {
            "text/html": [
              "<pre style=\"white-space:pre;overflow-x:auto;line-height:normal;font-family:Menlo,'DejaVu Sans Mono',consolas,'Courier New',monospace\">┏━━━━━━━━━━━━━━━━━━━━━━━━━━━━━━━━━┳━━━━━━━━━━━━━━━━━━━━━━━━┳━━━━━━━━━━━━━━━┓\n",
              "┃<span style=\"font-weight: bold\"> Layer (type)                    </span>┃<span style=\"font-weight: bold\"> Output Shape           </span>┃<span style=\"font-weight: bold\">       Param # </span>┃\n",
              "┡━━━━━━━━━━━━━━━━━━━━━━━━━━━━━━━━━╇━━━━━━━━━━━━━━━━━━━━━━━━╇━━━━━━━━━━━━━━━┩\n",
              "│ time_distributed_2              │ (<span style=\"color: #00d7ff; text-decoration-color: #00d7ff\">None</span>, <span style=\"color: #00d7ff; text-decoration-color: #00d7ff\">None</span>, <span style=\"color: #00af00; text-decoration-color: #00af00\">74</span>)       │             <span style=\"color: #00af00; text-decoration-color: #00af00\">0</span> │\n",
              "│ (<span style=\"color: #0087ff; text-decoration-color: #0087ff\">TimeDistributed</span>)               │                        │               │\n",
              "├─────────────────────────────────┼────────────────────────┼───────────────┤\n",
              "│ lstm (<span style=\"color: #0087ff; text-decoration-color: #0087ff\">LSTM</span>)                     │ (<span style=\"color: #00d7ff; text-decoration-color: #00d7ff\">None</span>, <span style=\"color: #00d7ff; text-decoration-color: #00d7ff\">None</span>, <span style=\"color: #00af00; text-decoration-color: #00af00\">200</span>)      │       <span style=\"color: #00af00; text-decoration-color: #00af00\">220,000</span> │\n",
              "├─────────────────────────────────┼────────────────────────┼───────────────┤\n",
              "│ dense_2 (<span style=\"color: #0087ff; text-decoration-color: #0087ff\">Dense</span>)                 │ (<span style=\"color: #00d7ff; text-decoration-color: #00d7ff\">None</span>, <span style=\"color: #00d7ff; text-decoration-color: #00d7ff\">None</span>, <span style=\"color: #00af00; text-decoration-color: #00af00\">74</span>)       │        <span style=\"color: #00af00; text-decoration-color: #00af00\">14,874</span> │\n",
              "└─────────────────────────────────┴────────────────────────┴───────────────┘\n",
              "</pre>\n"
            ],
            "text/plain": [
              "┏━━━━━━━━━━━━━━━━━━━━━━━━━━━━━━━━━┳━━━━━━━━━━━━━━━━━━━━━━━━┳━━━━━━━━━━━━━━━┓\n",
              "┃\u001b[1m \u001b[0m\u001b[1mLayer (type)                   \u001b[0m\u001b[1m \u001b[0m┃\u001b[1m \u001b[0m\u001b[1mOutput Shape          \u001b[0m\u001b[1m \u001b[0m┃\u001b[1m \u001b[0m\u001b[1m      Param #\u001b[0m\u001b[1m \u001b[0m┃\n",
              "┡━━━━━━━━━━━━━━━━━━━━━━━━━━━━━━━━━╇━━━━━━━━━━━━━━━━━━━━━━━━╇━━━━━━━━━━━━━━━┩\n",
              "│ time_distributed_2              │ (\u001b[38;5;45mNone\u001b[0m, \u001b[38;5;45mNone\u001b[0m, \u001b[38;5;34m74\u001b[0m)       │             \u001b[38;5;34m0\u001b[0m │\n",
              "│ (\u001b[38;5;33mTimeDistributed\u001b[0m)               │                        │               │\n",
              "├─────────────────────────────────┼────────────────────────┼───────────────┤\n",
              "│ lstm (\u001b[38;5;33mLSTM\u001b[0m)                     │ (\u001b[38;5;45mNone\u001b[0m, \u001b[38;5;45mNone\u001b[0m, \u001b[38;5;34m200\u001b[0m)      │       \u001b[38;5;34m220,000\u001b[0m │\n",
              "├─────────────────────────────────┼────────────────────────┼───────────────┤\n",
              "│ dense_2 (\u001b[38;5;33mDense\u001b[0m)                 │ (\u001b[38;5;45mNone\u001b[0m, \u001b[38;5;45mNone\u001b[0m, \u001b[38;5;34m74\u001b[0m)       │        \u001b[38;5;34m14,874\u001b[0m │\n",
              "└─────────────────────────────────┴────────────────────────┴───────────────┘\n"
            ]
          },
          "metadata": {},
          "output_type": "display_data"
        },
        {
          "data": {
            "text/html": [
              "<pre style=\"white-space:pre;overflow-x:auto;line-height:normal;font-family:Menlo,'DejaVu Sans Mono',consolas,'Courier New',monospace\"><span style=\"font-weight: bold\"> Total params: </span><span style=\"color: #00af00; text-decoration-color: #00af00\">234,874</span> (917.48 KB)\n",
              "</pre>\n"
            ],
            "text/plain": [
              "\u001b[1m Total params: \u001b[0m\u001b[38;5;34m234,874\u001b[0m (917.48 KB)\n"
            ]
          },
          "metadata": {},
          "output_type": "display_data"
        },
        {
          "data": {
            "text/html": [
              "<pre style=\"white-space:pre;overflow-x:auto;line-height:normal;font-family:Menlo,'DejaVu Sans Mono',consolas,'Courier New',monospace\"><span style=\"font-weight: bold\"> Trainable params: </span><span style=\"color: #00af00; text-decoration-color: #00af00\">234,874</span> (917.48 KB)\n",
              "</pre>\n"
            ],
            "text/plain": [
              "\u001b[1m Trainable params: \u001b[0m\u001b[38;5;34m234,874\u001b[0m (917.48 KB)\n"
            ]
          },
          "metadata": {},
          "output_type": "display_data"
        },
        {
          "data": {
            "text/html": [
              "<pre style=\"white-space:pre;overflow-x:auto;line-height:normal;font-family:Menlo,'DejaVu Sans Mono',consolas,'Courier New',monospace\"><span style=\"font-weight: bold\"> Non-trainable params: </span><span style=\"color: #00af00; text-decoration-color: #00af00\">0</span> (0.00 B)\n",
              "</pre>\n"
            ],
            "text/plain": [
              "\u001b[1m Non-trainable params: \u001b[0m\u001b[38;5;34m0\u001b[0m (0.00 B)\n"
            ]
          },
          "metadata": {},
          "output_type": "display_data"
        }
      ],
      "source": [
        "from keras.layers import LSTM\n",
        "\n",
        "model_lstm = Sequential()\n",
        "\n",
        "model_lstm.add(TimeDistributed(CategoryEncoding(num_tokens=vocab_size, output_mode = \"one_hot\"),input_shape=(None,1)))\n",
        "model_lstm.add(LSTM(200, return_sequences=True, dropout=0.1, recurrent_dropout=0.1 ))\n",
        "model_lstm.add(Dense(vocab_size, activation='softmax'))\n",
        "model_lstm.compile(loss='sparse_categorical_crossentropy', optimizer='rmsprop')\n",
        "\n",
        "model_lstm.summary()"
      ]
    },
    {
      "cell_type": "code",
      "execution_count": null,
      "metadata": {
        "colab": {
          "base_uri": "https://localhost:8080/"
        },
        "id": "3hIVwR-qX-Uy",
        "outputId": "f800646d-e0f3-4eb4-9608-724c407b9dd5"
      },
      "outputs": [],
      "source": [
        "history_ppl = []\n",
        "hist = model_lstm.fit(X, y, epochs=20, callbacks=[PplCallback(tokenized_sentences_val,history_ppl,5, name_model=\"lstm.keras\")], batch_size=256)"
      ]
    },
    {
      "cell_type": "markdown",
      "metadata": {},
      "source": [
        "Resultados:\n",
        "- Épocas: 20\n",
        "- Perplexity final media: 5.99\n",
        "\n",
        "_Nota: el siguiente gráfico se obtuvo de un entrenamiento previo del modelo que no se muestra en los logs por falta de recursos de GPU de colab_\n",
        "\n",
        "\n",
        "Al igual que en el SRNN, se observa una mejora en el modelo a medida que aumentan las épocas. En la época 5 se observa un cambio de desaceleración de mejora en la \"Perplexity\", y se alcanza un valor asíntotico de 6 en las épocas finales.\n",
        "\n"
      ]
    },
    {
      "cell_type": "code",
      "execution_count": 30,
      "metadata": {},
      "outputs": [],
      "source": [
        "# Cargamos el mejor modelo guardado del entrenamiento para hacer inferencia\n",
        "model_lstm = keras.models.load_model('lstm.keras')"
      ]
    },
    {
      "cell_type": "markdown",
      "metadata": {},
      "source": [
        "## SRNN con optimizador \"Adam\""
      ]
    },
    {
      "cell_type": "code",
      "execution_count": null,
      "metadata": {},
      "outputs": [],
      "source": [
        "vocab_size = len(chars_vocab)\n",
        "\n",
        "model_adam = Sequential()\n",
        "\n",
        "model_adam.add(TimeDistributed(CategoryEncoding(num_tokens=vocab_size, output_mode = \"one_hot\"),input_shape=(None,1)))\n",
        "model_adam.add(SimpleRNN(200, return_sequences=True, dropout=0.1, recurrent_dropout=0.1 ))\n",
        "model_adam.add(Dense(vocab_size, activation='softmax'))\n",
        "model_adam.compile(loss='sparse_categorical_crossentropy', optimizer='adam')\n",
        "\n",
        "model_adam.summary()"
      ]
    },
    {
      "cell_type": "code",
      "execution_count": null,
      "metadata": {},
      "outputs": [],
      "source": [
        "history_ppl = []\n",
        "hist = model_adam.fit(X, y, epochs=20, callbacks=[PplCallback(tokenized_sentences_val,history_ppl,5, name_model=\"srnn_adam.keras\")], batch_size=256)"
      ]
    },
    {
      "cell_type": "code",
      "execution_count": null,
      "metadata": {},
      "outputs": [],
      "source": [
        "import matplotlib.pyplot as plt\n",
        "import seaborn as sns\n",
        "\n",
        "# Entrenamiento\n",
        "epoch_count = range(1, len(history_ppl) + 1)\n",
        "sns.lineplot(x=epoch_count,  y=history_ppl)"
      ]
    },
    {
      "cell_type": "markdown",
      "metadata": {
        "id": "KN6Fg_BsxJe6"
      },
      "source": [
        "# Predicción del próximo caracter"
      ]
    },
    {
      "cell_type": "code",
      "execution_count": 33,
      "metadata": {
        "colab": {
          "base_uri": "https://localhost:8080/"
        },
        "id": "IBvKHFPmzpy2",
        "outputId": "dfd6a06d-5baa-4180-dbee-51daa2aecae5"
      },
      "outputs": [
        {
          "name": "stdout",
          "output_type": "stream",
          "text": [
            "Defaulting to user installation because normal site-packages is not writeable\n",
            "Collecting typing_extensions==4.7.1\n",
            "  Using cached typing_extensions-4.7.1-py3-none-any.whl (33 kB)\n",
            "Installing collected packages: typing_extensions\n",
            "  Attempting uninstall: typing_extensions\n",
            "    Found existing installation: typing_extensions 4.13.2\n",
            "    Uninstalling typing_extensions-4.13.2:\n",
            "      Successfully uninstalled typing_extensions-4.13.2\n",
            "\u001b[31mERROR: pip's dependency resolver does not currently take into account all the packages that are installed. This behaviour is the source of the following dependency conflicts.\n",
            "typing-inspection 0.4.0 requires typing-extensions>=4.12.0, but you have typing-extensions 4.7.1 which is incompatible.\n",
            "pydantic 2.11.3 requires typing-extensions>=4.12.2, but you have typing-extensions 4.7.1 which is incompatible.\n",
            "fastapi 0.115.12 requires typing-extensions>=4.8.0, but you have typing-extensions 4.7.1 which is incompatible.\u001b[0m\u001b[31m\n",
            "\u001b[0mSuccessfully installed typing_extensions-4.7.1\n"
          ]
        }
      ],
      "source": [
        "# Se puede usar gradio para probar el modelo\n",
        "# Gradio es una herramienta muy útil para crear interfaces para ensayar modelos\n",
        "# https://gradio.app/\n",
        "\n",
        "!pip install -q gradio\n",
        "!pip install typing_extensions==4.7.1 --upgrade"
      ]
    },
    {
      "cell_type": "code",
      "execution_count": null,
      "metadata": {
        "colab": {
          "base_uri": "https://localhost:8080/",
          "height": 680
        },
        "id": "HNyBykvhzs7-",
        "outputId": "bf2a1df2-398a-41c6-8134-d6d2d1fcb08f"
      },
      "outputs": [],
      "source": [
        "import gradio as gr\n",
        "\n",
        "model = model_srnn # model_gru model_lstm\n",
        "\n",
        "def model_response(human_text):\n",
        "\n",
        "    # Encodeamos\n",
        "    encoded = [char2idx[ch] for ch in human_text.lower() ]\n",
        "    # Si tienen distinto largo\n",
        "    encoded = pad_sequences([encoded], maxlen=max_context_size, padding='pre')\n",
        "\n",
        "    # Predicción softmax\n",
        "    y_hat = np.argmax(model.predict(encoded)[0,-1,:])\n",
        "\n",
        "\n",
        "    # Debemos buscar en el vocabulario el caracter\n",
        "    # que corresopnde al indice (y_hat) predicho por le modelo\n",
        "    out_word = ''\n",
        "    out_word = idx2char[y_hat]\n",
        "\n",
        "    # Agrego la palabra a la frase predicha\n",
        "    return human_text + out_word\n",
        "\n",
        "iface = gr.Interface(\n",
        "    fn=model_response,\n",
        "    inputs=[\"textbox\"],\n",
        "    outputs=\"text\")\n",
        "\n",
        "iface.launch(debug=True)"
      ]
    },
    {
      "cell_type": "markdown",
      "metadata": {
        "id": "mCeMWWupxN1-"
      },
      "source": [
        "# Generación de secuencias"
      ]
    },
    {
      "cell_type": "markdown",
      "metadata": {},
      "source": [
        "## Greedy search"
      ]
    },
    {
      "cell_type": "code",
      "execution_count": 35,
      "metadata": {
        "id": "bwbS_pfhxvB3"
      },
      "outputs": [],
      "source": [
        "def generate_seq(model, seed_text, max_length, n_words):\n",
        "    \"\"\"\n",
        "        Exec model sequence prediction\n",
        "\n",
        "        Args:\n",
        "            model (keras): modelo entrenado\n",
        "            seed_text (string): texto de entrada (input_seq)\n",
        "            max_length (int): máxima longitud de la sequencia de entrada\n",
        "            n_words (int): números de caracteres a agregar a la sequencia de entrada\n",
        "        returns:\n",
        "            output_text (string): sentencia con las \"n_words\" agregadas\n",
        "    \"\"\"\n",
        "    output_text = seed_text\n",
        "\t# generate a fixed number of words\n",
        "    for _ in range(n_words):\n",
        "\t\t# Encodeamos\n",
        "        encoded = [char2idx[ch] for ch in output_text.lower() ]\n",
        "\t\t# Si tienen distinto largo\n",
        "        encoded = pad_sequences([encoded], maxlen=max_length, padding='pre')\n",
        "\n",
        "\t\t# Predicción softmax\n",
        "        y_hat = np.argmax(model.predict(encoded,verbose=0)[0,-1,:])\n",
        "\t\t# Vamos concatenando las predicciones\n",
        "        out_word = ''\n",
        "\n",
        "        out_word = idx2char[y_hat]\n",
        "\n",
        "\t\t# Agrego las palabras a la frase predicha\n",
        "        output_text += out_word\n",
        "    return output_text"
      ]
    },
    {
      "cell_type": "code",
      "execution_count": 58,
      "metadata": {
        "colab": {
          "base_uri": "https://localhost:8080/",
          "height": 35
        },
        "id": "JoFqRC5pxzqS",
        "outputId": "74ba3b45-7445-4d2e-e9d5-2584dd85099c"
      },
      "outputs": [
        {
          "name": "stdout",
          "output_type": "stream",
          "text": [
            "========================================\n",
            "Input text: \"bioy comtemplaba a un perro salir por la puerta de vidrio\"\n",
            "========================================\n",
            "Model: srnn.keras\n",
            "Output text: bioy comtemplaba a un perro salir por la puerta de vidrios en la casa de la casa de la casa de la\n",
            "========================================\n",
            "Model: lstm.keras\n",
            "Output text: bioy comtemplaba a un perro salir por la puerta de vidrio de la cara de la cara de la cara de la \n",
            "========================================\n",
            "Model: gru.keras\n",
            "Output text: bioy comtemplaba a un perro salir por la puerta de vidrio de la cara de la cara de la cara de la \n"
          ]
        }
      ],
      "source": [
        "# Cargamos el mejor modelo guardado del entrenamiento para hacer inferencia\n",
        "\n",
        "input_text='bioy comtemplaba a un perro salir por la puerta de vidrio'\n",
        "print('='*40)\n",
        "print(f'Input text: \\\"{input_text}\\\"')\n",
        "model_names = ['srnn.keras','lstm.keras','gru.keras']\n",
        "for model_name in model_names:\n",
        "    print('=' * 40)\n",
        "    print(f'Model: {model_name}')\n",
        "    model = keras.models.load_model(model_name)\n",
        "    output_text = generate_seq(model, input_text, max_length=max_context_size, n_words=40)\n",
        "    print(f'Output text: {output_text}')"
      ]
    },
    {
      "cell_type": "markdown",
      "metadata": {},
      "source": [
        "La generación de texto por medio del modelo \"Greedy Search\", encuentra el siguiente caracter más probable para la secuencia de entrada. Esto genera, junto con la falta muestreo aleatorio con temperatura, la generación de loops repetitivos, tal como pueden observarse en los ejemplos anteriores. \n",
        "\n",
        "A su vez, se observa como los modelos GRU y LSTM tienen un comporamiento similar, ya que en ambos casos se utilizan estrategías para reducir el problema del gradiente evanescente."
      ]
    },
    {
      "cell_type": "markdown",
      "metadata": {
        "id": "drJ6xn5qW1Hl"
      },
      "source": [
        "###  Beam search y muestreo aleatorio\n",
        "\n"
      ]
    },
    {
      "cell_type": "code",
      "execution_count": 49,
      "metadata": {
        "id": "_vovn9XZW1Hl"
      },
      "outputs": [],
      "source": [
        "# funcionalidades para hacer encoding y decoding\n",
        "\n",
        "def encode(text,max_length=max_context_size):\n",
        "\n",
        "    encoded = [char2idx[ch] for ch in text]\n",
        "    encoded = pad_sequences([encoded], maxlen=max_length, padding='pre')\n",
        "\n",
        "    return encoded\n",
        "\n",
        "def decode(seq):\n",
        "    return ''.join([idx2char[ch] for ch in seq])"
      ]
    },
    {
      "cell_type": "code",
      "execution_count": 50,
      "metadata": {
        "id": "I_lZiQwkW1Hl"
      },
      "outputs": [],
      "source": [
        "from scipy.special import softmax\n",
        "\n",
        "# función que selecciona candidatos para el beam search\n",
        "def select_candidates(pred,num_beams,vocab_size,history_probs,history_tokens,temp,mode):\n",
        "\n",
        "  # colectar todas las probabilidades para la siguiente búsqueda\n",
        "  pred_large = []\n",
        "\n",
        "  for idx,pp in enumerate(pred):\n",
        "    pred_large.extend(np.log(pp+1E-10)+history_probs[idx])\n",
        "\n",
        "  pred_large = np.array(pred_large)\n",
        "\n",
        "  # criterio de selección\n",
        "  if mode == 'det':\n",
        "    idx_select = np.argsort(pred_large)[::-1][:num_beams] # beam search determinista\n",
        "  elif mode == 'sto':\n",
        "    idx_select = np.random.choice(np.arange(pred_large.shape[0]), num_beams, p=softmax(pred_large/temp)) # beam search con muestreo aleatorio\n",
        "  else:\n",
        "    raise ValueError(f'Wrong selection mode. {mode} was given. det and sto are supported.')\n",
        "\n",
        "  # traducir a índices de token en el vocabulario\n",
        "  new_history_tokens = np.concatenate((np.array(history_tokens)[idx_select//vocab_size],\n",
        "                        np.array([idx_select%vocab_size]).T),\n",
        "                      axis=1)\n",
        "\n",
        "  # devolver el producto de las probabilidades (log) y la secuencia de tokens seleccionados\n",
        "  return pred_large[idx_select.astype(int)], new_history_tokens.astype(int)\n",
        "\n",
        "\n",
        "def beam_search(model,num_beams,num_words,input,temp=1,mode='det'):\n",
        "\n",
        "    # first iteration\n",
        "\n",
        "    # encode\n",
        "    encoded = encode(input)\n",
        "\n",
        "    # first prediction\n",
        "    y_hat = model.predict(encoded,verbose=0)[0,-1,:]\n",
        "\n",
        "    # get vocabulary size\n",
        "    vocab_size = y_hat.shape[0]\n",
        "\n",
        "    # initialize history\n",
        "    history_probs = [0]*num_beams\n",
        "    history_tokens = [encoded[0]]*num_beams\n",
        "\n",
        "    # select num_beams candidates\n",
        "    history_probs, history_tokens = select_candidates([y_hat],\n",
        "                                        num_beams,\n",
        "                                        vocab_size,\n",
        "                                        history_probs,\n",
        "                                        history_tokens,\n",
        "                                        temp,\n",
        "                                        mode)\n",
        "\n",
        "    # beam search loop\n",
        "    for i in range(num_words-1):\n",
        "\n",
        "      preds = []\n",
        "\n",
        "      for hist in history_tokens:\n",
        "\n",
        "        # actualizar secuencia de tokens\n",
        "        input_update = np.array([hist[i+1:]]).copy()\n",
        "\n",
        "        # predicción\n",
        "        y_hat = model.predict(input_update,verbose=0)[0,-1,:]\n",
        "\n",
        "        preds.append(y_hat)\n",
        "\n",
        "      history_probs, history_tokens = select_candidates(preds,\n",
        "                                                        num_beams,\n",
        "                                                        vocab_size,\n",
        "                                                        history_probs,\n",
        "                                                        history_tokens,\n",
        "                                                        temp,\n",
        "                                                        mode)\n",
        "\n",
        "    return history_tokens[:,-(len(input)+num_words):]"
      ]
    },
    {
      "cell_type": "code",
      "execution_count": 61,
      "metadata": {
        "id": "GeLqAoOYW1Hm"
      },
      "outputs": [
        {
          "name": "stdout",
          "output_type": "stream",
          "text": [
            "========================================\n",
            "Input text: \"bioy comtemplaba\"\n",
            "========================================\n",
            "Model: srnn.keras\n",
            "Temp: 1\n",
            "Mode: det\n",
            "Output 1: bioy comtemplaba en un solo que el hombre de l\n",
            "Output 2: bioy comtemplaba en un solo que el hombre de u\n",
            "Output 3: bioy comtemplaba en un solo que el hombre. el \n",
            "Output 4: bioy comtemplaba en un solo que el hombre del \n",
            "Output 5: bioy comtemplaba en un solo que el hombre de a\n",
            "========================================\n",
            "Model: srnn.keras\n",
            "Temp: 1\n",
            "Mode: sto\n",
            "Output 1: bioy comtemplaba en la erena de un indificarar\n",
            "Output 2: bioy comtemplaba en la erena de un indificado \n",
            "Output 3: bioy comtemplaba en la erena de un indificara \n",
            "Output 4: bioy comtemplaba en la erena de un indificado,\n",
            "Output 5: bioy comtemplaba en la erena de un indificara \n",
            "========================================\n",
            "Model: srnn.keras\n",
            "Temp: 10\n",
            "Mode: det\n",
            "Output 1: bioy comtemplaba en un solo que el hombre de l\n",
            "Output 2: bioy comtemplaba en un solo que el hombre de u\n",
            "Output 3: bioy comtemplaba en un solo que el hombre. el \n",
            "Output 4: bioy comtemplaba en un solo que el hombre del \n",
            "Output 5: bioy comtemplaba en un solo que el hombre de a\n",
            "========================================\n",
            "Model: srnn.keras\n",
            "Temp: 10\n",
            "Mode: sto\n",
            "Output 1: bioy comtemplaba(hne,…hé—5o8de)äin(¡o…)uiuteóz\n",
            "Output 2: bioy comtemplaba(hne,…hé—5o8de)äin(¡o…)uiute c\n",
            "Output 3: bioy comtemplaba(hne,…hé—5o8de)äin(¡o…)uiute u\n",
            "Output 4: bioy comtemplaba(hne,…hé—5o8de)äin(¡o…)uiute é\n",
            "Output 5: bioy comtemplaba(hne,…hé—5o8de)äin(¡o…)uiuteó«\n",
            "========================================\n",
            "Model: srnn.keras\n",
            "Temp: 100\n",
            "Mode: det\n",
            "Output 1: bioy comtemplaba en un solo que el hombre de l\n",
            "Output 2: bioy comtemplaba en un solo que el hombre de u\n",
            "Output 3: bioy comtemplaba en un solo que el hombre. el \n",
            "Output 4: bioy comtemplaba en un solo que el hombre del \n",
            "Output 5: bioy comtemplaba en un solo que el hombre de a\n",
            "========================================\n",
            "Model: srnn.keras\n",
            "Temp: 100\n",
            "Mode: sto\n",
            "Output 1: bioy comtemplabaep’10jx4uc–’wh0h.x!¿h.;ly*«e0h\n",
            "Output 2: bioy comtemplabaep’10jx4uc–’wh0h.x!¿h“fijelñä…\n",
            "Output 3: bioy comtemplabaep’10jx4uc–’wh0h.x!¿h“fijelñäê\n",
            "Output 4: bioy comtemplabaep’10jx4uc–’wh0h.x!¿h.;ly*4-’7\n",
            "Output 5: bioy comtemplabaep’10jx4uc–’wh0h.x!¿h.;ly*«e0ü\n",
            "========================================\n",
            "Model: lstm.keras\n",
            "Temp: 1\n",
            "Mode: det\n",
            "Output 1: bioy comtemplaba en la casa de los hombres de \n",
            "Output 2: bioy comtemplaba en la casa de los hombres que\n",
            "Output 3: bioy comtemplaba en la casa de los hombres del\n",
            "Output 4: bioy comtemplaba en la casa de los hombres, la\n",
            "Output 5: bioy comtemplaba en la casa de los hombres, pe\n",
            "========================================\n",
            "Model: lstm.keras\n",
            "Temp: 1\n",
            "Mode: sto\n",
            "Output 1: bioy comtemplaba el hombre y con las tropas, e\n",
            "Output 2: bioy comtemplaba el hombre y con las tropas, f\n",
            "Output 3: bioy comtemplaba el hombre y con las tropas, “\n",
            "Output 4: bioy comtemplaba el hombre y con las tropas, m\n",
            "Output 5: bioy comtemplaba el hombre y con las tropas, p\n",
            "========================================\n",
            "Model: lstm.keras\n",
            "Temp: 10\n",
            "Mode: det\n",
            "Output 1: bioy comtemplaba en la casa de los hombres de \n",
            "Output 2: bioy comtemplaba en la casa de los hombres que\n",
            "Output 3: bioy comtemplaba en la casa de los hombres del\n",
            "Output 4: bioy comtemplaba en la casa de los hombres, la\n",
            "Output 5: bioy comtemplaba en la casa de los hombres, pe\n",
            "========================================\n",
            "Model: lstm.keras\n",
            "Temp: 10\n",
            "Mode: sto\n",
            "Output 1: bioy comtemplabasípímeouríásise?-)6íó 9zcnav¡u\n",
            "Output 2: bioy comtemplabasípímeouríásise?-)6íó 9äábdl,7\n",
            "Output 3: bioy comtemplabasípímeouríásise?-)6íó 9zcnav–n\n",
            "Output 4: bioy comtemplabasípímeouríásise?-)6íó 9äábdl–:\n",
            "Output 5: bioy comtemplabasípímeouríásise?-)6íó 9zcnav..\n",
            "========================================\n",
            "Model: lstm.keras\n",
            "Temp: 100\n",
            "Mode: det\n",
            "Output 1: bioy comtemplaba en la casa de los hombres de \n",
            "Output 2: bioy comtemplaba en la casa de los hombres que\n",
            "Output 3: bioy comtemplaba en la casa de los hombres del\n",
            "Output 4: bioy comtemplaba en la casa de los hombres, la\n",
            "Output 5: bioy comtemplaba en la casa de los hombres, pe\n",
            "========================================\n",
            "Model: lstm.keras\n",
            "Temp: 100\n",
            "Mode: sto\n",
            "Output 1: bioy comtemplabaó-a6x¡é”?e5j2»lo-,öy“*4*? 2od-\n",
            "Output 2: bioy comtemplabaó-a6x¡é”?e5j2»lo-,öy“*4*? 22.q\n",
            "Output 3: bioy comtemplabaó-a6x¡é”?e5j2»lo-,öy“*4*? 2…h¿\n",
            "Output 4: bioy comtemplabaó-a6x¡é”?e5j2»lo-,öy“*4*s1f¿”,\n",
            "Output 5: bioy comtemplabaó-a6x¡é”?e5j2»lo-,öy“*4*s1f¿ü?\n",
            "========================================\n",
            "Model: gru.keras\n",
            "Temp: 1\n",
            "Mode: det\n",
            "Output 1: bioy comtemplaba que los hombres de los hombre\n",
            "Output 2: bioy comtemplaba que los hombres de la primera\n",
            "Output 3: bioy comtemplaba que los hombres de la cara de\n",
            "Output 4: bioy comtemplaba que los hombres de la calle g\n",
            "Output 5: bioy comtemplaba que los hombres de la calle d\n",
            "========================================\n",
            "Model: gru.keras\n",
            "Temp: 1\n",
            "Mode: sto\n",
            "Output 1: bioy comtemplaba que el desconocido por la dic\n",
            "Output 2: bioy comtemplaba que el desconocido por la cam\n",
            "Output 3: bioy comtemplaba que el desconocido por la cas\n",
            "Output 4: bioy comtemplaba que el desconocido por la tie\n",
            "Output 5: bioy comtemplaba que el desconocido por la tid\n",
            "========================================\n",
            "Model: gru.keras\n",
            "Temp: 10\n",
            "Mode: det\n",
            "Output 1: bioy comtemplaba que los hombres de los hombre\n",
            "Output 2: bioy comtemplaba que los hombres de la primera\n",
            "Output 3: bioy comtemplaba que los hombres de la cara de\n",
            "Output 4: bioy comtemplaba que los hombres de la calle g\n",
            "Output 5: bioy comtemplaba que los hombres de la calle d\n",
            "========================================\n",
            "Model: gru.keras\n",
            "Temp: 10\n",
            "Mode: sto\n",
            "Output 1: bioy comtemplaba 49’”l)9: éy, sqg3 “-6öy”dwe,0\n",
            "Output 2: bioy comtemplaba 49’”l)9: éy, sqg3 “-6öy”d0v-m\n",
            "Output 3: bioy comtemplaba 49’”l)9: éy, sqg3 “-6öy”dwe-ú\n",
            "Output 4: bioy comtemplaba 49’”l)9: éy, sqg3 “-6öy”dwe-ä\n",
            "Output 5: bioy comtemplaba 49’”l)9: éy, sqg3 “-6öy”dwe-y\n",
            "========================================\n",
            "Model: gru.keras\n",
            "Temp: 100\n",
            "Mode: det\n",
            "Output 1: bioy comtemplaba que los hombres de los hombre\n",
            "Output 2: bioy comtemplaba que los hombres de la primera\n",
            "Output 3: bioy comtemplaba que los hombres de la cara de\n",
            "Output 4: bioy comtemplaba que los hombres de la calle g\n",
            "Output 5: bioy comtemplaba que los hombres de la calle d\n",
            "========================================\n",
            "Model: gru.keras\n",
            "Temp: 100\n",
            "Mode: sto\n",
            "Output 1: bioy comtemplaba–,6:)jnë*wi7bënr? a).ä1fgn;gó:\n",
            "Output 2: bioy comtemplaba–,6:)jnë*wi7bënr? a).jd)ä”h)ë \n",
            "Output 3: bioy comtemplaba–,6:)jnë*wi7bënr? a).jd)ä”:6d.\n",
            "Output 4: bioy comtemplaba–,6:)jnë*wi7bënr? a).jd)ä”h)z?\n",
            "Output 5: bioy comtemplaba–,6:)jnë*wi7bënr? a).jd)ä”h)ë2\n"
          ]
        }
      ],
      "source": [
        "# predicción con beam search\n",
        "input_text='bioy comtemplaba'\n",
        "print('='*40)\n",
        "print(f'Input text: \\\"{input_text}\\\"')\n",
        "model_names = ['srnn.keras','lstm.keras','gru.keras']\n",
        "temp_values = [1,10,100]\n",
        "modes = ['det','sto']\n",
        "for model_name in model_names:\n",
        "    for temp in temp_values:\n",
        "        for mode in modes:\n",
        "            print('=' * 40)\n",
        "            print(f'Model: {model_name}')\n",
        "            print(f'Temp: {temp}')\n",
        "            print(f'Mode: {mode}')\n",
        "            model = keras.models.load_model(model_name)\n",
        "            salidas = beam_search(model,num_beams=5,num_words=30,input=input_text,temp=temp,mode=mode)\n",
        "            # veamos las salidas mas probables\n",
        "            for idx,salida in enumerate(salidas):\n",
        "                print(f'Output {idx+1}: {decode(salida)}')\n",
        "        \n"
      ]
    },
    {
      "cell_type": "markdown",
      "metadata": {},
      "source": [
        "# Conclusiones\n",
        "\n",
        "Al comparar los resultados de los distintos modelos utilizando el método de predicción con \"Beam Search\", podemos extraer las siguientes conclusiones:\n",
        "- Al comparar los modelos por separado, de manera deterministica, el modelo LSTM genera texto más coherente, gramatical y fluido. Lo que demuestra que la SRNN tiene menor capacidad para modelar dependencias largas que la LSTM\n",
        "- Al incluir la temperatura en la predicción de resultados,ambos modelos estan infiriendo caracteres extremadamente improbables, lo que demuestra la gran dependencia que existe con la temperatura. Esto indica que las distribuciones de probabilidad deterministicas no se encuentra muy desbalanceadas entre sí, haciendolos muy sensibles a cualquier \"ruido\" estocástico.\n",
        "- Si comparamos la complejidad de los modelos, la cantidad de parámetros entrenables, obseramos que la más sencilla es la SRNN con 70000 parametros aproximadamente, la GRU con 180000 parámetros aproximadamente (x2.6) y la LSTM con 225000 parámetros aproximadamente (x3.25), lo cual se relaciona con el resultado final, obteniendo frases más comprensibles con los últimos dos modelos en comparación con la primera. Sin embargo, los niveles de \"perplexity\" en todos los casos alcanzan valores similares, lo cual nos da a entender que analizar una red únicamente por medio de este parámetro es incompleto."
      ]
    },
    {
      "cell_type": "markdown",
      "metadata": {
        "id": "Q_LlqmtEW1Hn"
      },
      "source": []
    }
  ],
  "metadata": {
    "accelerator": "GPU",
    "colab": {
      "gpuType": "T4",
      "provenance": []
    },
    "kernelspec": {
      "display_name": "Python 3",
      "language": "python",
      "name": "python3"
    },
    "language_info": {
      "codemirror_mode": {
        "name": "ipython",
        "version": 3
      },
      "file_extension": ".py",
      "mimetype": "text/x-python",
      "name": "python",
      "nbconvert_exporter": "python",
      "pygments_lexer": "ipython3",
      "version": "3.10.12"
    }
  },
  "nbformat": 4,
  "nbformat_minor": 0
}
